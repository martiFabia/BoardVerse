{
 "cells": [
  {
   "cell_type": "markdown",
   "metadata": {},
   "source": [
    "# 7. set _ids"
   ]
  },
  {
   "cell_type": "markdown",
   "metadata": {},
   "source": [
    "Requirements"
   ]
  },
  {
   "cell_type": "code",
   "execution_count": 2,
   "metadata": {},
   "outputs": [
    {
     "name": "stdout",
     "output_type": "stream",
     "text": [
      "Note: you may need to restart the kernel to use updated packages.\n"
     ]
    },
    {
     "name": "stderr",
     "output_type": "stream",
     "text": [
      "\n",
      "[notice] A new release of pip is available: 24.3.1 -> 25.0\n",
      "[notice] To update, run: python.exe -m pip install --upgrade pip\n"
     ]
    }
   ],
   "source": [
    "%pip install -r ../requirements.txt -q"
   ]
  },
  {
   "cell_type": "markdown",
   "metadata": {},
   "source": [
    "Imports"
   ]
  },
  {
   "cell_type": "code",
   "execution_count": 3,
   "metadata": {},
   "outputs": [],
   "source": [
    "import os\n",
    "import time\n",
    "\n",
    "import pandas as pd\n",
    "import numpy as np\n",
    "\n",
    "import json\n",
    "import logging\n",
    "from datetime import datetime\n",
    "import random\n",
    "from tqdm import tqdm\n"
   ]
  },
  {
   "cell_type": "markdown",
   "metadata": {},
   "source": [
    "Logging configuration"
   ]
  },
  {
   "cell_type": "code",
   "execution_count": 4,
   "metadata": {},
   "outputs": [],
   "source": [
    "logging.basicConfig(level=logging.INFO, format=\"%(asctime)s - %(levelname)s - %(message)s\")\n",
    "logger = logging.getLogger()"
   ]
  },
  {
   "cell_type": "markdown",
   "metadata": {},
   "source": [
    "Constants"
   ]
  },
  {
   "cell_type": "code",
   "execution_count": 5,
   "metadata": {},
   "outputs": [],
   "source": [
    "# Repositories\n",
    "DATA_DIR = os.path.join(\"..\", \"data\")\n",
    "MONGO_DIR = os.path.join(DATA_DIR, \"clean\", \"mongo\")\n",
    "RAW_DIR = os.path.join(DATA_DIR, \"raw\")\n",
    "NEO4J_DIR = os.path.join(DATA_DIR, \"clean\", \"neo4j\")"
   ]
  },
  {
   "cell_type": "code",
   "execution_count": 6,
   "metadata": {},
   "outputs": [],
   "source": [
    "# Repos creation\n",
    "os.makedirs(DATA_DIR, exist_ok=True)\n",
    "os.makedirs(MONGO_DIR, exist_ok=True)\n",
    "os.makedirs(RAW_DIR, exist_ok=True)"
   ]
  },
  {
   "cell_type": "code",
   "execution_count": 9,
   "metadata": {},
   "outputs": [],
   "source": [
    "# Files\n",
    "GAMES_JSON = os.path.join(MONGO_DIR, \"games.json\")\n",
    "REVIEWS_JSON = os.path.join(MONGO_DIR, \"reviews.json\")\n",
    "THREADS_JSON = os.path.join(MONGO_DIR, \"threads.json\")\n",
    "TOURNAMENTS_JSON = os.path.join(MONGO_DIR, \"tournaments.json\")\n",
    "USERS_JSON = os.path.join(MONGO_DIR, \"users.json\")\n",
    "\n",
    "RAW_USERS = os.path.join(RAW_DIR, \"users.json\")\n",
    "\n",
    "LIKES_JSON = os.path.join(NEO4J_DIR, \"likes.json\")\n",
    "PARTICIPANTS_JSON = os.path.join(NEO4J_DIR, \"participants.json\")\n",
    "WINNER_JSON = os.path.join(NEO4J_DIR, \"winners.json\")\n",
    "# PARTICIPANTS_CSV = os.path.join(NEO4J_DIR, \"participants.csv\")"
   ]
  },
  {
   "cell_type": "code",
   "execution_count": null,
   "metadata": {},
   "outputs": [
    {
     "data": {
      "text/plain": [
       "{'_id': '93d26891-f8e5-40e9-8958-599130835c84',\n",
       " 'username': 'ska_dad',\n",
       " 'firstName': 'Michael',\n",
       " 'lastName': 'Ross',\n",
       " 'email': 'michael.ross.0@inbox.com',\n",
       " 'password': '4babed4b0385643d149e53d611376e15c849c58185d11c66cfa4b20f06e11a18',\n",
       " 'birthDate': {'$date': {'$numberLong': '-103334400000'}},\n",
       " 'location': {'city': None, 'stateOrProvince': None, 'country': None},\n",
       " 'followers': 10,\n",
       " 'following': 41,\n",
       " 'tournaments': {'partecipated': 223, 'won': 5, 'created': 6},\n",
       " 'mostRecentReviews': [{'postDate': '2024-08-15T00:00:00Z',\n",
       "   'rating': 2,\n",
       "   'content': 'This game scores 2/10 just for the fact that author just keeps parasitizing on his signature mechanics, offering 0 new ideas. But now he presents the donwtime so horrible that the game is absolutely unplayable with 4 and barely playable with 3. Adding the fact that the theme is totally non-existent and illogical for such gameplay and cards, and you have it: the worst and the most terrible game by Vital by a large margin. Also, some mechanics just add nothing to the gameplay except unnecessary pushing of tokens here and there. Earlier designs does not have such problems. Avoid at all costs.',\n",
       "   '_id': '2c63707c-0357-47cf-81ae-621c73aa4a2f',\n",
       "   'game': {'name': 'Inventions: Evolution of Ideas',\n",
       "    'yearReleased': 2024,\n",
       "    '_id': '09778459-2362-46a8-b899-39623e4c3685'}},\n",
       "  {'postDate': '2024-07-08T00:00:00Z',\n",
       "   'rating': 10,\n",
       "   'content': 'One of the best cooperative games, easy to learn and play with variability',\n",
       "   '_id': '65b92047-b62a-4f8e-abe9-e4ce52b2e0a6',\n",
       "   'game': {'name': 'Slay the Spire: The Board Game',\n",
       "    'yearReleased': 2024,\n",
       "    '_id': 'cab72e24-61d3-4c07-bddf-6ba99f044b78'}},\n",
       "  {'postDate': '2024-06-06T00:00:00Z',\n",
       "   'rating': 5,\n",
       "   'content': 'Played (TTS)',\n",
       "   '_id': 'dc6e7258-108a-4be8-8dfc-232279acf695',\n",
       "   'game': {'name': 'Captain Flip',\n",
       "    'yearReleased': 2024,\n",
       "    '_id': 'eb9ad877-b624-4aaa-97af-721af8b5631f'}}],\n",
       " 'role': 'ROLE_USER',\n",
       " 'registeredDate': {'$date': '2011-05-17T00:00:00.000Z'}}"
      ]
     },
     "execution_count": 11,
     "metadata": {},
     "output_type": "execute_result"
    }
   ],
   "source": [
    "from collections import Counter\n",
    "\n",
    "with open(USERS_JSON, \"r\", encoding=\"utf-8\") as file:\n",
    "    users = json.load(file)\n",
    "\n",
    "with open(WINNER_JSON, \"r\", encoding=\"utf-8\") as file:\n",
    "    winners = json.load(file)\n",
    "    # Estrai i valori di winner dagli oggetti nel file\n",
    "    winner_list = [w['winner'] for w in winners]\n",
    "\n",
    "    # Conta le occorrenze di ciascun valore\n",
    "    winner_counts = Counter(winner_list)\n",
    "\n",
    "    # Converti Counter in un dict\n",
    "    winner = dict(winner_counts)\n",
    "\n",
    "cu = []\n",
    "for user in users:\n",
    "    user[\"tournaments\"][\"won\"] = winner[user[\"username\"]] if user[\"username\"] in winner else 0\n",
    "    cu.append(user)"
   ]
  },
  {
   "cell_type": "code",
   "execution_count": 12,
   "metadata": {},
   "outputs": [],
   "source": [
    "with open(USERS_JSON, \"w\", encoding=\"utf-8\") as file:\n",
    "    json.dump(cu, file, ensure_ascii=False, indent=4)"
   ]
  },
  {
   "cell_type": "code",
   "execution_count": 8,
   "metadata": {},
   "outputs": [
    {
     "data": {
      "text/plain": [
       "531808"
      ]
     },
     "execution_count": 8,
     "metadata": {},
     "output_type": "execute_result"
    }
   ],
   "source": [
    "# with open(PARTICIPANTS_JSON, \"r\", encoding=\"utf-8\") as f:\n",
    "#     participants = json.load(f)\n",
    "# len(participants)\n",
    "\n",
    "# # Scrivi i dati in formato CSV\n",
    "# with open(PARTICIPANTS_CSV, \"w\", newline=\"\", encoding=\"utf-8\") as csv_file:\n",
    "#     writer = csv.writer(csv_file)\n",
    "\n",
    "#     # Scrivi l'intestazione\n",
    "#     writer.writerow([\"tournament\", \"participant\", \"registrationTime\"])\n",
    "\n",
    "#     # Scrivi i dati\n",
    "#     for entry in participants:\n",
    "#         writer.writerow([entry[\"tournament\"], entry[\"participant\"], entry[\"registrationTime\"]])\n"
   ]
  },
  {
   "cell_type": "code",
   "execution_count": 9,
   "metadata": {},
   "outputs": [
    {
     "name": "stderr",
     "output_type": "stream",
     "text": [
      "2025-01-24 20:31:16,715 - INFO - Saved 100000 participants to ..\\data\\clean\\neo4j\\participants_chunk_1.json\n",
      "2025-01-24 20:31:19,074 - INFO - Saved 100000 participants to ..\\data\\clean\\neo4j\\participants_chunk_2.json\n",
      "2025-01-24 20:31:20,871 - INFO - Saved 100000 participants to ..\\data\\clean\\neo4j\\participants_chunk_3.json\n",
      "2025-01-24 20:31:22,372 - INFO - Saved 100000 participants to ..\\data\\clean\\neo4j\\participants_chunk_4.json\n",
      "2025-01-24 20:31:23,978 - INFO - Saved 100000 participants to ..\\data\\clean\\neo4j\\participants_chunk_5.json\n",
      "2025-01-24 20:31:24,365 - INFO - Saved 31808 participants to ..\\data\\clean\\neo4j\\participants_chunk_6.json\n"
     ]
    }
   ],
   "source": [
    "# # Numero di elementi per file\n",
    "# chunk_size = 100000\n",
    "\n",
    "# # Suddividi la lista in blocchi\n",
    "# chunks = [participants[i:i + chunk_size] for i in range(0, len(participants), chunk_size)]\n",
    "\n",
    "# # Salva ciascun blocco in un file separato\n",
    "# for i, chunk in enumerate(chunks):\n",
    "#     chunk_file = os.path.join(NEO4J_DIR, f\"participants_chunk_{i + 1}.json\")\n",
    "#     with open(chunk_file, \"w\", encoding=\"utf-8\") as f:\n",
    "#         json.dump(chunk, f, ensure_ascii=False, indent=4)\n",
    "#     logger.info(f\"Saved {len(chunk)} participants to {chunk_file}\")"
   ]
  },
  {
   "cell_type": "code",
   "execution_count": 8,
   "metadata": {},
   "outputs": [],
   "source": [
    "# with open(USERS_JSON, \"r\", encoding=\"utf-8\") as file:\n",
    "#     user_ids = {u[\"username\"]: u[\"_id\"] for u in json.load(file)}\n",
    "# with open(TOURNAMENTS_JSON, \"r\", encoding=\"utf-8\") as file:\n",
    "#     tournaments = json.load(file)\n",
    "# tc = []\n",
    "# for t in tqdm(tournaments):\n",
    "#     if t[\"visibility\"] == \"PRIVATE\":\n",
    "#         allowed_ids = []\n",
    "#         for allowed_username in t[\"allowed\"]:\n",
    "#             if allowed_username in user_ids:\n",
    "#                 allowed_ids.append(user_ids[allowed_username])\n",
    "#         t[\"allowed\"] = allowed_ids\n",
    "#     tc.append(t)\n",
    "# logger.info(f\"Corrected {len(tournaments)} tournaments\")"
   ]
  },
  {
   "cell_type": "code",
   "execution_count": 9,
   "metadata": {},
   "outputs": [],
   "source": [
    "# with open(TOURNAMENTS_JSON, \"w\", encoding=\"utf-8\") as file:\n",
    "#     json.dump(tc, file, ensure_ascii=False, indent=4)"
   ]
  },
  {
   "cell_type": "code",
   "execution_count": 18,
   "metadata": {},
   "outputs": [
    {
     "name": "stderr",
     "output_type": "stream",
     "text": [
      "100%|██████████| 675226/675226 [00:05<00:00, 127391.41it/s]\n"
     ]
    }
   ],
   "source": [
    "import pycountry\n",
    "\n",
    "with open(REVIEWS_JSON, \"r\", encoding=\"utf-8\") as file:\n",
    "    users = json.load(file)\n",
    "\n",
    "NOT_ALLOWED = [None, \"\", \"XX\", \"Unspecified\", \"Unknown\", \"Other\", \"Not Specified\", \"Unpecified\", \"Unknown\", \"Not specified\", \"Not known\"]\n",
    "uc = []\n",
    "for u in tqdm(users):\n",
    "    # Country\n",
    "    if u[\"location\"][\"country\"] in NOT_ALLOWED:\n",
    "        u[\"location\"][\"country\"] = None\n",
    "        u[\"location\"][\"stateOrProvince\"] = None\n",
    "        u[\"location\"][\"city\"] = None\n",
    "    else:\n",
    "        try:\n",
    "            country = pycountry.countries.get(name=u[\"location\"][\"country\"])\n",
    "            u[\"location\"][\"country\"] = country.name\n",
    "        except:\n",
    "            u[\"location\"][\"country\"] = None\n",
    "            u[\"location\"][\"stateOrProvince\"] = None\n",
    "            u[\"location\"][\"city\"] = None\n",
    "    \n",
    "    # State\n",
    "    if u[\"location\"][\"stateOrProvince\"] in NOT_ALLOWED:\n",
    "        u[\"location\"][\"stateOrProvince\"] = None\n",
    "        u[\"location\"][\"city\"] = None\n",
    "    else:\n",
    "        try:\n",
    "            subdivision = pycountry.subdivisions.get(code=u[\"location\"][\"stateOrProvince\"])\n",
    "            if subdivision:\n",
    "                u[\"location\"][\"stateOrProvince\"] = subdivision.name\n",
    "        except:\n",
    "            u[\"location\"][\"stateOrProvince\"] = None\n",
    "            u[\"location\"][\"city\"] = None\n",
    "    \n",
    "    # City\n",
    "    if u[\"location\"][\"city\"] in NOT_ALLOWED:\n",
    "        u[\"location\"][\"city\"] = None\n",
    "        try:\n",
    "            city = pycountry.cities.get(name=u[\"location\"][\"city\"])\n",
    "            u[\"location\"][\"city\"] = city.name\n",
    "        except:\n",
    "            u[\"location\"][\"city\"] = None\n",
    "    uc.append(u)\n",
    "    "
   ]
  },
  {
   "cell_type": "code",
   "execution_count": 19,
   "metadata": {},
   "outputs": [
    {
     "name": "stdout",
     "output_type": "stream",
     "text": [
      "United States: 260062\n",
      "Canada: 45518\n",
      "United Kingdom: 40641\n",
      "Germany: 32063\n",
      "Australia: 19550\n",
      "Netherlands: 14831\n",
      "France: 12113\n",
      "Italy: 10038\n",
      "Spain: 9291\n",
      "Belgium: 8249\n",
      "Sweden: 7745\n",
      "Poland: 7080\n",
      "Brazil: 5834\n",
      "Denmark: 5266\n",
      "New Zealand: 4430\n",
      "Greece: 4287\n",
      "Portugal: 3755\n",
      "Austria: 3746\n",
      "Finland: 3608\n",
      "Norway: 3010\n",
      "Switzerland: 2714\n",
      "Ireland: 2404\n",
      "Hungary: 2350\n",
      "Mexico: 2218\n",
      "Singapore: 2156\n",
      "Chile: 1710\n",
      "South Africa: 1372\n",
      "Argentina: 1276\n",
      "Malaysia: 1271\n",
      "Israel: 1267\n",
      "Latvia: 1035\n",
      "Croatia: 1024\n",
      "Slovakia: 933\n",
      "Hong Kong: 895\n",
      "China: 880\n",
      "Philippines: 866\n",
      "India: 811\n",
      "Peru: 698\n",
      "Ukraine: 693\n",
      "Costa Rica: 685\n",
      "Japan: 661\n",
      "Estonia: 613\n",
      "Romania: 545\n",
      "Colombia: 536\n",
      "Cyprus: 510\n",
      "Serbia: 498\n",
      "Thailand: 472\n",
      "Luxembourg: 432\n",
      "Saudi Arabia: 411\n",
      "Indonesia: 396\n",
      "Bermuda: 304\n",
      "Nepal: 267\n",
      "Belarus: 186\n",
      "Bulgaria: 169\n",
      "Jordan: 125\n",
      "El Salvador: 124\n",
      "Lebanon: 121\n",
      "Lithuania: 112\n",
      "United Arab Emirates: 109\n",
      "Uruguay: 104\n",
      "Réunion: 92\n",
      "Egypt: 86\n",
      "Bosnia and Herzegovina: 80\n",
      "San Marino: 69\n",
      "Pakistan: 58\n",
      "Slovenia: 53\n",
      "Kazakhstan: 44\n",
      "Ecuador: 41\n",
      "Iceland: 32\n"
     ]
    }
   ],
   "source": [
    "from collections import Counter\n",
    "\n",
    "# Estrai i valori di location.country da uc\n",
    "countries = [u['location']['country'] for u in uc if u['location']['country']]\n",
    "\n",
    "# Conta le occorrenze di ciascun valore\n",
    "country_counts = Counter(countries)\n",
    "\n",
    "# Ordina i risultati in ordine decrescente\n",
    "sorted_country_counts = sorted(country_counts.items(), key=lambda x: x[1], reverse=True)\n",
    "\n",
    "# Stampa i risultati\n",
    "for country, count in sorted_country_counts:\n",
    "    print(f\"{country}: {count}\")"
   ]
  },
  {
   "cell_type": "code",
   "execution_count": 20,
   "metadata": {},
   "outputs": [],
   "source": [
    "with open(REVIEWS_JSON, \"w\", encoding=\"utf-8\") as file:\n",
    "    json.dump(uc, file, ensure_ascii=False, indent=4)"
   ]
  },
  {
   "cell_type": "code",
   "execution_count": 7,
   "metadata": {},
   "outputs": [],
   "source": [
    "# with open(GAMES_JSON, \"r\", encoding=\"utf-8\") as f:\n",
    "#     games = json.load(f)\n",
    "# corrected_games = []\n",
    "# for game in games:\n",
    "#     c_game = {\"_id\": str(game[\"id\"])}\n",
    "#     c_game.update(game)\n",
    "#     del c_game[\"id\"]\n",
    "#     corrected_games.append(c_game)\n",
    "# with open(GAMES_JSON, \"w\", encoding=\"utf-8\") as f:\n",
    "#     json.dump(corrected_games, f, ensure_ascii=False, indent=4)\n",
    "# logger.info(f\"Corrected games file saved at {GAMES_JSON}\")"
   ]
  },
  {
   "cell_type": "code",
   "execution_count": 8,
   "metadata": {},
   "outputs": [],
   "source": [
    "# with open(REVIEWS_JSON, \"r\", encoding=\"utf-8\") as f:\n",
    "#     reviews = json.load(f)\n",
    "# corrected_reviews = []\n",
    "# for review in reviews:\n",
    "#     c_review = {\"_id\": str(review[\"id\"])}\n",
    "#     c_review.update(review)\n",
    "#     del c_review[\"id\"]\n",
    "#     corrected_reviews.append(c_review)\n",
    "# with open(REVIEWS_JSON, \"w\", encoding=\"utf-8\") as f:\n",
    "#     json.dump(corrected_reviews, f, ensure_ascii=False, indent=4)\n",
    "# logger.info(f\"Corrected reviews file saved at {REVIEWS_JSON}\")"
   ]
  },
  {
   "cell_type": "code",
   "execution_count": 9,
   "metadata": {},
   "outputs": [],
   "source": [
    "# with open(THREADS_JSON, \"r\", encoding=\"utf-8\") as f:\n",
    "#     threads = json.load(f)\n",
    "# corrected_threads = []\n",
    "# for thread in threads:\n",
    "#     c_thread = {\"_id\": str(thread[\"id\"])}\n",
    "#     c_thread.update(thread)\n",
    "#     del c_thread[\"id\"]\n",
    "#     corrected_threads.append(c_thread)\n",
    "# with open(THREADS_JSON, \"w\", encoding=\"utf-8\") as f:\n",
    "#     json.dump(corrected_threads, f, ensure_ascii=False, indent=4)\n",
    "# logger.info(f\"Corrected threads file saved at {THREADS_JSON}\")"
   ]
  },
  {
   "cell_type": "code",
   "execution_count": 10,
   "metadata": {},
   "outputs": [],
   "source": [
    "# with open(TOURNAMENTS_JSON, \"r\", encoding=\"utf-8\") as f:\n",
    "#     tournaments = json.load(f)\n",
    "# corrected_tournaments = []\n",
    "# for tournament in tournaments:\n",
    "#     c_tournament = {\"_id\": str(tournament[\"id\"])}\n",
    "#     c_tournament.update(tournament)\n",
    "#     del c_tournament[\"id\"]\n",
    "#     corrected_tournaments.append(c_tournament)\n",
    "# with open(TOURNAMENTS_JSON, \"w\", encoding=\"utf-8\") as f:\n",
    "#     json.dump(corrected_tournaments, f, ensure_ascii=False, indent=4)\n",
    "# logger.info(f\"Corrected tournaments file saved at {TOURNAMENTS_JSON}\")"
   ]
  },
  {
   "cell_type": "code",
   "execution_count": 11,
   "metadata": {},
   "outputs": [],
   "source": [
    "# with open(USERS_JSON, \"r\", encoding=\"utf-8\") as f:\n",
    "#     users = json.load(f)\n",
    "# corrected_users = []\n",
    "# for user in users:\n",
    "#     c_user = {\"_id\": str(user[\"id\"])}\n",
    "#     c_user.update(user)\n",
    "#     del c_user[\"id\"]\n",
    "#     corrected_users.append(c_user)\n",
    "# with open(USERS_JSON, \"w\", encoding=\"utf-8\") as f:\n",
    "#     json.dump(corrected_users, f, ensure_ascii=False, indent=4)\n",
    "# logger.info(f\"Corrected users file saved at {USERS_JSON}\")"
   ]
  },
  {
   "cell_type": "code",
   "execution_count": 12,
   "metadata": {},
   "outputs": [],
   "source": [
    "# names = [\n",
    "#     \"Alexander\", \"Maria\", \"Daniel\", \"Sofia\", \"Michael\", \"Emma\", \n",
    "#     \"David\", \"Olivia\", \"James\", \"Isabella\", \"Benjamin\", \"Charlotte\", \n",
    "#     \"William\", \"Amelia\", \"Thomas\", \"Mia\", \"Matthew\", \"Luna\", \n",
    "#     \"Christopher\", \"Chloe\"\n",
    "# ]\n",
    "# surnames = [\n",
    "#     \"Smith\", \"Johnson\", \"Brown\", \"Garcia\", \"Lee\", \"Taylor\", \n",
    "#     \"Anderson\", \"Thomas\", \"Jackson\", \"White\", \"Harris\", \"Martin\", \n",
    "#     \"Thompson\", \"Moore\", \"Hernandez\", \"Davis\", \"Walker\", \"Lopez\", \n",
    "#     \"Young\", \"Hall\"\n",
    "# ]\n",
    "# email_domains = [\n",
    "#     \"gmail.com\",\n",
    "#     \"yahoo.com\",\n",
    "#     \"outlook.com\",\n",
    "#     \"hotmail.com\",\n",
    "#     \"icloud.com\",\n",
    "#     \"aol.com\",\n",
    "#     \"zoho.com\",\n",
    "#     \"mail.com\",\n",
    "#     \"protonmail.com\",\n",
    "#     \"gmx.com\",\n",
    "#     \"yandex.com\",\n",
    "#     \"fastmail.com\",\n",
    "#     \"inbox.com\",\n",
    "#     \"rocketmail.com\",\n",
    "#     \"me.com\",\n",
    "#     \"live.com\",\n",
    "#     \"msn.com\",\n",
    "#     \"hushmail.com\",\n",
    "#     \"rediffmail.com\",\n",
    "#     \"tutanota.com\"\n",
    "# ]"
   ]
  },
  {
   "cell_type": "code",
   "execution_count": 13,
   "metadata": {},
   "outputs": [],
   "source": [
    "# with open(USERS_JSON, \"r\", encoding=\"utf-8\") as f:\n",
    "#     users = json.load(f)\n",
    "# corrected_users = []\n",
    "# i = 0\n",
    "# for user in users:\n",
    "#     if user[\"firstName\"] == \"\":\n",
    "#         user[\"firstName\"] = random.choice(names)\n",
    "#     if user[\"lastName\"] == \"\":\n",
    "#         user[\"lastName\"] = random.choice(surnames)\n",
    "#     user[\"email\"] = f\"{user['firstName'].lower()}.{user['lastName'].lower()}.{i}@{random.choice(email_domains)}\"\n",
    "#     corrected_users.append(user)\n",
    "#     i += 1\n",
    "# with open(USERS_JSON, \"w\", encoding=\"utf-8\") as f:\n",
    "#     json.dump(corrected_users, f, ensure_ascii=False, indent=4)\n",
    "# logger.info(f\"Corrected users file saved at {USERS_JSON}\")"
   ]
  },
  {
   "cell_type": "code",
   "execution_count": 14,
   "metadata": {},
   "outputs": [],
   "source": [
    "# with open(USERS_JSON, \"r\", encoding=\"utf-8\") as f:\n",
    "#     users = json.load(f)\n",
    "# with open(RAW_USERS, \"r\", encoding=\"utf-8\") as f:\n",
    "#     registration_years = {u[\"name\"]: int(u[\"yearregistered\"]) for u in json.load(f)}\n",
    "\n",
    "# corrected_users = []\n",
    "# for user in users:\n",
    "#     if user[\"username\"] in registration_years:\n",
    "#         user[\"registeredDate\"] = registration_years[user[\"username\"]]\n",
    "#     else:\n",
    "#         user[\"registeredDate\"] = 1990\n",
    "#     month = random.randint(1, 12)\n",
    "#     day = random.randint(1, 28)  # To avoid issues with February\n",
    "#     user[\"registeredDate\"] = f\"{user['registeredDate']}-{month:02d}-{day:02d}\"\n",
    "#     user[\"registeredDate\"] = datetime.strptime(user[\"registeredDate\"], \"%Y-%m-%d\").isoformat()\n",
    "#     corrected_users.append(user)\n",
    "# with open(USERS_JSON, \"w\", encoding=\"utf-8\") as f:\n",
    "#     json.dump(corrected_users, f, ensure_ascii=False, indent=4)\n",
    "# logger.info(f\"Corrected users file saved at {USERS_JSON}\")"
   ]
  },
  {
   "cell_type": "code",
   "execution_count": 15,
   "metadata": {},
   "outputs": [
    {
     "name": "stderr",
     "output_type": "stream",
     "text": [
      "2025-01-22 13:09:08,003 - INFO - Corrected tournaments file saved at ..\\data\\clean\\mongo\\tournaments.json\n"
     ]
    }
   ],
   "source": [
    "# with open(TOURNAMENTS_JSON, \"r\", encoding=\"utf-8\") as f:\n",
    "#     tournaments = json.load(f)\n",
    "# corrected_tournaments = []\n",
    "# for tournament in tournaments:\n",
    "#     tournament[\"options\"] = [{\"optionName\": name, \"optionValue\": value} for name, value in tournament[\"options\"].items()]\n",
    "#     corrected_tournaments.append(tournament)\n",
    "# with open(TOURNAMENTS_JSON, \"w\", encoding=\"utf-8\") as f:\n",
    "#     json.dump(corrected_tournaments, f, ensure_ascii=False, indent=4)\n",
    "# logger.info(f\"Corrected tournaments file saved at {TOURNAMENTS_JSON}\")"
   ]
  },
  {
   "cell_type": "code",
   "execution_count": null,
   "metadata": {},
   "outputs": [],
   "source": [
    "NEO4J_DIR = os.path.join(DATA_DIR, \"clean\", \"neo4j\")\n",
    "os.makedirs(NEO4J_DIR, exist_ok=True)\n",
    "\n",
    "NEO4J_USERS = os.path.join(NEO4J_DIR, \"users.json\")\n",
    "NEO4J_GAMES = os.path.join(NEO4J_DIR, \"games.json\")\n",
    "NEO4J_TOURNAMENTS = os.path.join(NEO4J_DIR, \"tournaments.json\")\n",
    "\n",
    "NEO4J_FOLLOWERS = os.path.join(NEO4J_DIR, \"followers.json\")\n",
    "NEO4J_LIKES = os.path.join(NEO4J_DIR, \"likes.json\")\n",
    "NEO4J_RELATED = os.path.join(NEO4J_DIR, \"game_tournaments.json\")\n",
    "NEO4J_ADMINISTRATORS = os.path.join(NEO4J_DIR, \"administrators.json\")\n",
    "NEO4J_PARTICIPANTS = os.path.join(NEO4J_DIR, \"participants.json\")\n",
    "NEO4J_WINNERS = os.path.join(NEO4J_DIR, \"winners.json\")\n",
    "\n",
    "NEO4J_COUNTRY = os.path.join(NEO4J_DIR, \"country.json\")\n",
    "NEO4J_STATE = os.path.join(NEO4J_DIR, \"state.json\")\n",
    "\n",
    "NEO4J_FROM = os.path.join(NEO4J_DIR, \"from.json\")\n",
    "NEO4J_PART_OF = os.path.join(NEO4J_DIR, \"part_of.json\")\n",
    "\n",
    "# with open(NEO4J_USERS, \"r\", encoding=\"utf-8\") as f:\n",
    "#     users = json.load(f)\n",
    "# with open(NEO4J_GAMES, \"r\", encoding=\"utf-8\") as f:\n",
    "#     games = json.load(f)\n",
    "# with open(NEO4J_TOURNAMENTS, \"r\", encoding=\"utf-8\") as f:\n",
    "#     tournaments = json.load(f)\n",
    "\n",
    "# with open(NEO4J_FOLLOWERS, \"r\", encoding=\"utf-8\") as f:\n",
    "#     followers = json.load(f)\n",
    "# with open(NEO4J_LIKES, \"r\", encoding=\"utf-8\") as f:\n",
    "#     likes = json.load(f)\n",
    "# with open(NEO4J_RELATED, \"r\", encoding=\"utf-8\") as f:\n",
    "#     related = json.load(f)\n",
    "# with open(NEO4J_ADMINISTRATORS, \"r\", encoding=\"utf-8\") as f:\n",
    "#     administrators = json.load(f)\n",
    "# with open(NEO4J_PARTICIPANTS, \"r\", encoding=\"utf-8\") as f:\n",
    "#     participants = json.load(f)\n",
    "# with open(NEO4J_WINNERS, \"r\", encoding=\"utf-8\") as f:\n",
    "#     winners = json.load(f)"
   ]
  },
  {
   "cell_type": "code",
   "execution_count": null,
   "metadata": {},
   "outputs": [],
   "source": []
  },
  {
   "cell_type": "code",
   "execution_count": null,
   "metadata": {},
   "outputs": [],
   "source": [
    "# from geopy.geocoders import Nominatim"
   ]
  },
  {
   "cell_type": "code",
   "execution_count": null,
   "metadata": {},
   "outputs": [],
   "source": [
    "# # Configura il geolocatore\n",
    "# geolocator = Nominatim(user_agent=\"location_geocoder\")\n",
    "\n",
    "# # Funzione per ottenere coordinate\n",
    "# def get_coordinates(location):\n",
    "#     try:\n",
    "#         # Formatta la location per la ricerca\n",
    "#         location_str = \", \".join(filter(None, [location.get('city'), location.get('stateOrProvince'), location.get('country')]))\n",
    "#         if not location_str:\n",
    "#             return None\n",
    "#         # Ottieni la posizione\n",
    "#         location_data = geolocator.geocode(location_str)\n",
    "#         if location_data:\n",
    "#             return {\n",
    "#                 \"type\": \"Point\",\n",
    "#                 \"coordinates\": [location_data.longitude, location_data.latitude]\n",
    "#             }\n",
    "#         return None\n",
    "#     except Exception as e:\n",
    "#         print(f\"Errore nel geocoding per {location}: {e}\")\n",
    "#         return None"
   ]
  },
  {
   "cell_type": "code",
   "execution_count": null,
   "metadata": {},
   "outputs": [],
   "source": [
    "# user_nodes = []\n",
    "# for user in users:\n",
    "#     # Add relationships\n",
    "#     user[\"follows\"] = [f[\"followed\"] for f in followers if f[\"follower\"] == user[\"username\"]]\n",
    "#     user[\"likes\"] = [l[\"liked\"] for l in likes if l[\"liker\"] == user[\"username\"]]\n",
    "#     user[\"won\"] = [w[\"tournament\"] for w in winners if w[\"winner\"] == user[\"username\"]]\n",
    "#     user[\"participates\"] = [p[\"tournament\"] for p in participants if p[\"participant\"] == user[\"username\"]]\n",
    "#     user[\"administrates\"] = [a[\"tournament\"] for a in administrators if a[\"administrator\"] == user[\"username\"]]\n",
    "    \n",
    "#     # Convert location to geopoint\n",
    "#     # user[\"location\"] = get_coordinates(user[\"location\"])\n",
    "#     # if user[\"location\"]:\n",
    "#     #     user[\"location\"] = {\n",
    "#     #         \"latitude\": user[\"location\"][\"coordinates\"][1],\n",
    "#     #         \"longitude\": user[\"location\"][\"coordinates\"][0]\n",
    "#     #     }\n",
    "#     # else:\n",
    "#     #     logger.warn(f\"Location not found for {user['username']}\")\n",
    "#     #     user[\"location\"] = None\n",
    "    \n",
    "#     user_nodes.append(user)"
   ]
  },
  {
   "cell_type": "code",
   "execution_count": null,
   "metadata": {},
   "outputs": [],
   "source": [
    "# tournament_nodes = []\n",
    "# for tournament in tournaments:\n",
    "#     # Add relationships\n",
    "#     tournament[\"related\"] = [r[\"tournament\"] for r in related if r[\"game\"] == tournament[\"game\"]]\n",
    "#     tournament[\"administrators\"] = [a[\"administrator\"] for a in administrators if a[\"tournament\"] == tournament[\"id\"]]\n",
    "#     tournament[\"participants\"] = [p[\"participant\"] for p in participants if p[\"tournament\"] == tournament[\"id\"]]\n",
    "#     tournament[\"winners\"] = [w[\"winner\"] for w in winners if w[\"tournament\"] == tournament[\"id\"]]\n",
    "    \n",
    "#     tournament_nodes.append(tournament)"
   ]
  },
  {
   "cell_type": "code",
   "execution_count": null,
   "metadata": {},
   "outputs": [],
   "source": []
  }
 ],
 "metadata": {
  "kernelspec": {
   "display_name": ".venv",
   "language": "python",
   "name": "python3"
  },
  "language_info": {
   "codemirror_mode": {
    "name": "ipython",
    "version": 3
   },
   "file_extension": ".py",
   "mimetype": "text/x-python",
   "name": "python",
   "nbconvert_exporter": "python",
   "pygments_lexer": "ipython3",
   "version": "3.12.4"
  }
 },
 "nbformat": 4,
 "nbformat_minor": 2
}
