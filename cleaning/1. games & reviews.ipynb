{
 "cells": [
  {
   "cell_type": "markdown",
   "metadata": {},
   "source": [
    "# 1. games.json / reviews.json"
   ]
  },
  {
   "cell_type": "markdown",
   "metadata": {},
   "source": [
    "Requirements"
   ]
  },
  {
   "cell_type": "code",
   "execution_count": 1,
   "metadata": {},
   "outputs": [
    {
     "name": "stdout",
     "output_type": "stream",
     "text": [
      "Note: you may need to restart the kernel to use updated packages.\n"
     ]
    }
   ],
   "source": [
    "%pip install -r ../requirements.txt -q"
   ]
  },
  {
   "cell_type": "markdown",
   "metadata": {},
   "source": [
    "Imports"
   ]
  },
  {
   "cell_type": "code",
   "execution_count": 2,
   "metadata": {},
   "outputs": [],
   "source": [
    "import os\n",
    "import time\n",
    "\n",
    "import pandas as pd\n",
    "import numpy as np\n",
    "\n",
    "import json\n",
    "from tqdm import tqdm\n",
    "import logging\n",
    "\n",
    "import uuid\n",
    "import random\n",
    "from datetime import datetime, timedelta"
   ]
  },
  {
   "cell_type": "markdown",
   "metadata": {},
   "source": [
    "Logging configuration"
   ]
  },
  {
   "cell_type": "code",
   "execution_count": 3,
   "metadata": {},
   "outputs": [],
   "source": [
    "logging.basicConfig(level=logging.INFO, format=\"%(asctime)s - %(levelname)s - %(message)s\")\n",
    "logger = logging.getLogger()"
   ]
  },
  {
   "cell_type": "markdown",
   "metadata": {},
   "source": [
    "Constants"
   ]
  },
  {
   "cell_type": "code",
   "execution_count": 4,
   "metadata": {},
   "outputs": [],
   "source": [
    "# Repositories\n",
    "DATA_DIR = os.path.join(\"..\", \"data\")\n",
    "TEMP_DIR = os.path.join(DATA_DIR, \"temp\")\n",
    "RAW_DIR = os.path.join(DATA_DIR, \"raw\")\n",
    "MONGO_DIR = os.path.join(DATA_DIR, \"clean\", \"mongo\")\n",
    "NEO4J_DIR = os.path.join(DATA_DIR, \"clean\", \"neo4j\")"
   ]
  },
  {
   "cell_type": "code",
   "execution_count": 5,
   "metadata": {},
   "outputs": [],
   "source": [
    "# Repos creation\n",
    "os.makedirs(DATA_DIR, exist_ok=True)\n",
    "os.makedirs(TEMP_DIR, exist_ok=True)\n",
    "os.makedirs(RAW_DIR, exist_ok=True)\n",
    "os.makedirs(MONGO_DIR, exist_ok=True)\n",
    "os.makedirs(NEO4J_DIR, exist_ok=True)"
   ]
  },
  {
   "cell_type": "code",
   "execution_count": 6,
   "metadata": {},
   "outputs": [],
   "source": [
    "MIN_UPLOAD_TIME = 2000"
   ]
  },
  {
   "cell_type": "code",
   "execution_count": 7,
   "metadata": {},
   "outputs": [],
   "source": [
    "# Files\n",
    "MAP_FILE = os.path.join(TEMP_DIR, \"user_map.json\")\n",
    "BIRTH_DATE_FILE = os.path.join(TEMP_DIR, \"birth_dates.json\")\n",
    "RECENT_REVIEWS = os.path.join(TEMP_DIR, \"recent_reviews.json\")\n",
    "\n",
    "BOARD_GAMES_FILE = os.path.join(RAW_DIR, \"boardgames&reviews.json\")\n",
    "USERS_FILE = os.path.join(RAW_DIR, \"users.json\")\n",
    "\n",
    "GAMES_JSON = os.path.join(MONGO_DIR, \"games.json\")\n",
    "REVIEWS_JSON = os.path.join(MONGO_DIR, \"reviews.json\")\n",
    "NEO4J_GAMES_JSON = os.path.join(NEO4J_DIR, \"games.json\")"
   ]
  },
  {
   "cell_type": "markdown",
   "metadata": {},
   "source": [
    "Utility functions"
   ]
  },
  {
   "cell_type": "code",
   "execution_count": 8,
   "metadata": {},
   "outputs": [],
   "source": [
    "def save_to_json(data, filename):\n",
    "    \"\"\"\n",
    "    Save data to a JSON file.\n",
    "\n",
    "    Parameters:\n",
    "    data (any): The data to be saved to the JSON file. This can be any data type that is serializable to JSON.\n",
    "    filename (str): The name of the file where the data will be saved.\n",
    "\n",
    "    Returns:\n",
    "    None\n",
    "    \"\"\"\n",
    "    with open(filename, \"w\", encoding=\"utf-8\") as f:\n",
    "        json.dump(data, f, ensure_ascii=False, indent=4)"
   ]
  },
  {
   "cell_type": "code",
   "execution_count": 9,
   "metadata": {},
   "outputs": [],
   "source": [
    "def append_to_json(new_data, filename):\n",
    "    \"\"\"\n",
    "    Adds new data to an existing JSON file without duplicates.\n",
    "\n",
    "        new_data (list): The new data to add.\n",
    "        filename (str): The name of the JSON file.\n",
    "    \"\"\"\n",
    "    # Read existing data from the file.\n",
    "    try:\n",
    "        with open(filename, \"r\", encoding=\"utf-8\") as f:\n",
    "            existing_data = json.load(f)\n",
    "    except FileNotFoundError:\n",
    "        existing_data = []\n",
    "\n",
    "    # Combine the existing data with the new data and remove duplicates.\n",
    "    combined_data = {json.dumps(item, sort_keys=True): item for item in existing_data + new_data}.values()\n",
    "\n",
    "    # Save the combined data back to the file.\n",
    "    with open(filename, \"w\", encoding=\"utf-8\") as f:\n",
    "        json.dump(list(combined_data), f, ensure_ascii=False, indent=4)"
   ]
  },
  {
   "cell_type": "markdown",
   "metadata": {},
   "source": [
    "## Functions"
   ]
  },
  {
   "cell_type": "code",
   "execution_count": 10,
   "metadata": {},
   "outputs": [],
   "source": [
    "def generate_upload_date(year_released, popularity_score, std_dev=0.3):\n",
    "    \"\"\"\n",
    "    Generate a realistic upload date based on the release year and popularity.\n",
    "    \n",
    "    Args:\n",
    "        year_released (int): The year the game was released.\n",
    "        popularity_score (float): Score from 0 (least popular) to 1 (most popular).\n",
    "        std_dev (int): Standard deviation for the normal distribution.\n",
    "    \n",
    "    Returns:\n",
    "        datetime: A random upload date.\n",
    "    \"\"\"\n",
    "    # Bias the center year based on popularity (more popular games are uploaded later)\n",
    "    bias_year = int(((datetime.now().year - 1) - year_released) * (1 - popularity_score))\n",
    "    center_year = year_released + bias_year\n",
    "    \n",
    "    # Generate a random year using a normal distribution centered around the biased year\n",
    "    upload_year = int(random.gauss(center_year, std_dev))\n",
    "    upload_year = max(upload_year, max(year_released, 1))  # Ensure it’s not before release year and within valid range\n",
    "    upload_year = min(upload_year, datetime.now().year - 1)  # Ensure it’s not in the future\n",
    "    \n",
    "    # Generate a random date within the selected year\n",
    "    start_date = datetime(upload_year, 1, 1)\n",
    "    end_date = datetime(upload_year, 12, 31)\n",
    "    random_days = random.randint(0, (end_date - start_date).days)\n",
    "    upload_date = start_date + timedelta(days=random_days)\n",
    "    \n",
    "    return upload_date"
   ]
  },
  {
   "cell_type": "code",
   "execution_count": 11,
   "metadata": {},
   "outputs": [],
   "source": [
    "def generate_review_date_gamma(upload_date, shape=2, scale=30, max_years=5):\n",
    "    \"\"\"\n",
    "    Generate a realistic review postDate using a gamma distribution.\n",
    "    \n",
    "    Args:\n",
    "        upload_date (datetime): The date the game was uploaded to the site.\n",
    "        shape (float): Shape parameter of the gamma distribution (α).\n",
    "        scale (float): Scale parameter of the gamma distribution (β).\n",
    "        max_years (int): Maximum years after the upload date for a review.\n",
    "    \n",
    "    Returns:\n",
    "        datetime: A realistic postDate for the review.\n",
    "    \"\"\"\n",
    "    # Define the maximum number of days for reviews\n",
    "    max_days = ((datetime.now().year - 1) - upload_date.year) * 365\n",
    "    end_date = min(upload_date + timedelta(days=max_days), datetime.now())\n",
    "    \n",
    "    # Generate random days using the gamma distribution\n",
    "    random_days = int(random.gammavariate(shape, scale))\n",
    "    \n",
    "    # Clamp random_days to ensure it doesn't exceed the valid range\n",
    "    random_days = min(random_days, (end_date - upload_date).days)\n",
    "    \n",
    "    # Calculate the review date\n",
    "    review_date = upload_date + timedelta(days=random_days)\n",
    "    return review_date"
   ]
  },
  {
   "cell_type": "code",
   "execution_count": 12,
   "metadata": {},
   "outputs": [],
   "source": [
    "def generate_birth_dates(review_dates, random_prob=0.7):\n",
    "    \"\"\"\n",
    "    Genera date di nascita verosimili basate sulla data della prima review.\n",
    "    \n",
    "    :param review_dates: Dizionario con {utente: data_prima_review}\n",
    "    :return: Dizionario con {utente: data_di_nascita}\n",
    "    \"\"\"\n",
    "    birth_dates = {}\n",
    "\n",
    "    for user, review_date in review_dates.items():\n",
    "        # Converte la data della prima review in un oggetto datetime\n",
    "        review_datetime = datetime.strptime(review_date, \"%Y-%m-%dT%H:%M:%SZ\")\n",
    "        \n",
    "        # Genera un'età casuale tra 18 e 60 anni\n",
    "        if random.random() < random_prob:\n",
    "            age = random.randint(18, 40)\n",
    "        else:\n",
    "            age = random.randint(41, 60)\n",
    "        \n",
    "        # Calcola la data di nascita sottraendo l'età\n",
    "        birth_date = review_datetime - timedelta(days=age * 365)  # Approx 365 giorni per anno\n",
    "        \n",
    "        # Salva la data di nascita nel dizionario come stringa\n",
    "        birth_dates[user] = birth_date.strftime(\"%Y-%m-%d\")\n",
    "\n",
    "    return birth_dates"
   ]
  },
  {
   "cell_type": "markdown",
   "metadata": {},
   "source": [
    "## Execution"
   ]
  },
  {
   "cell_type": "markdown",
   "metadata": {},
   "source": [
    "Load the games data from the `raw/boardgames&reviews.json`"
   ]
  },
  {
   "cell_type": "code",
   "execution_count": 13,
   "metadata": {},
   "outputs": [
    {
     "name": "stderr",
     "output_type": "stream",
     "text": [
      "2025-01-20 12:13:38,883 - INFO - Loaded 2120 games.\n",
      "2025-01-20 12:13:39,037 - INFO - Loaded user map with 121274 users.\n",
      "2025-01-20 12:13:44,138 - INFO - Loaded 5000 users.\n"
     ]
    }
   ],
   "source": [
    "with open(BOARD_GAMES_FILE, \"r\", encoding=\"utf-8\") as f:\n",
    "    raw_games = json.load(f)\n",
    "logger.info(f\"Loaded {len(raw_games)} games.\")\n",
    "\n",
    "# Load the user map\n",
    "with open(MAP_FILE, \"r\", encoding=\"utf-8\") as f:\n",
    "    user_map = json.load(f)\n",
    "logger.info(f\"Loaded user map with {len(user_map)} users.\")\n",
    "\n",
    "# Load the users\n",
    "with open(USERS_FILE, \"r\", encoding=\"utf-8\") as f:\n",
    "    raw_users = json.load(f)\n",
    "logger.info(f\"Loaded {len(raw_users)} users.\")"
   ]
  },
  {
   "cell_type": "code",
   "execution_count": 14,
   "metadata": {},
   "outputs": [
    {
     "name": "stderr",
     "output_type": "stream",
     "text": [
      "100%|██████████| 2120/2120 [06:40<00:00,  5.30it/s]\n"
     ]
    }
   ],
   "source": [
    "games = []\n",
    "neo4jgames = []\n",
    "reviews = []\n",
    "\n",
    "for raw_game in tqdm(raw_games):\n",
    "\n",
    "    ########################## MONGO BOARDGAME ##############################\n",
    "\n",
    "    game = {\n",
    "        \"id\": str(uuid.uuid4()),\n",
    "\n",
    "        \"name\": raw_game[\"name\"],\n",
    "        \"yearReleased\": raw_game[\"yearReleased\"] if raw_game[\"yearReleased\"] >= 0 else 0,\n",
    "        \"uploadTime\": None,\n",
    "        \n",
    "        \"description\": raw_game[\"description\"],\n",
    "        \"shortDescription\": raw_game[\"short_description\"],\n",
    "        \n",
    "        \"averageRating\": None,\n",
    "        \"ratingVoters\": None,\n",
    "\n",
    "        \"minPlayers\": raw_game[\"minPlayers\"],\n",
    "        \"maxPlayers\": raw_game[\"maxPlayers\"],\n",
    "        \"minSuggAge\": raw_game[\"minSuggAge\"],\n",
    "        \"minPlaytime\": raw_game[\"minPlayTime\"],\n",
    "        \"maxPlaytime\": raw_game[\"maxPlayTime\"],\n",
    "\n",
    "        \"designers\": raw_game[\"designers\"],\n",
    "        \"artists\": raw_game[\"artists\"],\n",
    "        \"publishers\": raw_game[\"publishers\"],\n",
    "\n",
    "        \"categories\": raw_game[\"categories\"],\n",
    "\n",
    "        \"mechanics\": raw_game[\"mechanisms\"],\n",
    "        \"family\": raw_game[\"family\"]\n",
    "    }\n",
    "\n",
    "    # Generate average rating and rating voters\n",
    "    ratings = [review[\"rating\"] for review in raw_game[\"reviews\"] if review[\"rating\"] != \"N/A\"]\n",
    "    game[\"ratingVoters\"] = len(ratings)\n",
    "    game[\"averageRating\"] = sum(ratings) / game[\"ratingVoters\"] if game[\"ratingVoters\"] > 0 else None\n",
    "\n",
    "    # Generate upload time\n",
    "    game[\"uploadTime\"] = generate_upload_date(max(game[\"yearReleased\"], MIN_UPLOAD_TIME), game[\"averageRating\"] / 10 if game[\"averageRating\"] is not None else 0).isoformat() + 'Z'\n",
    "\n",
    "    # Append to games list\n",
    "    games.append(game)\n",
    "\n",
    "    ######################### NEO4J BOARDGAME ##############################\n",
    "\n",
    "    neo4jgame = {\n",
    "        \"id\": game[\"id\"],\n",
    "        \"name\": game[\"name\"],\n",
    "        \"yearReleased\": game[\"yearReleased\"],\n",
    "        \"shortDescription\": game[\"shortDescription\"],\n",
    "        \"categories\": game[\"categories\"]\n",
    "    }\n",
    "\n",
    "    # Append to neo4j games list\n",
    "    neo4jgames.append(neo4jgame)\n",
    "\n",
    "    ######################### MONGO REVIEWS ##############################\n",
    "\n",
    "    for raw_review in raw_game[\"reviews\"]:\n",
    "        if raw_review[\"rating\"] == \"N/A\":\n",
    "            continue\n",
    "\n",
    "        review = {\n",
    "            \"id\": str(uuid.uuid4()),\n",
    "\n",
    "            \"postDate\": None,\n",
    "            \"author\": {\n",
    "                \"username\": user_map[raw_review[\"user\"]],\n",
    "                \"birthDate\": None\n",
    "            },\n",
    "\n",
    "            \"location\": {\n",
    "                \"city\": None,\n",
    "                \"stateOrProvince\": None,\n",
    "                \"country\": None\n",
    "            },\n",
    "\n",
    "            \"game\": {\n",
    "                \"id\": game[\"id\"],\n",
    "                \"name\": game[\"name\"],\n",
    "                \"yearReleased\": game[\"yearReleased\"],\n",
    "                \"shortDescription\": game[\"shortDescription\"]\n",
    "            },\n",
    "\n",
    "            \"rating\": raw_review[\"rating\"],\n",
    "            \"content\": raw_review[\"comment\"]\n",
    "        }\n",
    "\n",
    "        # Generate post date\n",
    "        review[\"postDate\"] = generate_review_date_gamma(datetime.fromisoformat(game[\"uploadTime\"][:-1])).isoformat() + 'Z'\n",
    "\n",
    "        # Insert author location\n",
    "        user = next((u for u in raw_users if u[\"name\"] == review[\"author\"][\"username\"]), None)\n",
    "        if user:\n",
    "            review[\"location\"][\"city\"] = user.get(\"city\", None)\n",
    "            review[\"location\"][\"stateOrProvince\"] = user.get(\"stateorprovince\", None)\n",
    "            review[\"location\"][\"country\"] = user.get(\"country\", None)\n",
    "\n",
    "        # Append to reviews list\n",
    "        reviews.append(review)"
   ]
  },
  {
   "cell_type": "code",
   "execution_count": 15,
   "metadata": {},
   "outputs": [],
   "source": [
    "# Ensure any user wrote at most one review per game\n",
    "unique_reviews = []\n",
    "game_partial_num = {}\n",
    "game_partial_sum = {}\n",
    "seen_reviews = set()\n",
    "for review in reviews:\n",
    "    game_id = review[\"game\"][\"id\"]\n",
    "    author = review[\"author\"][\"username\"]\n",
    "    if (game_id, author) not in seen_reviews:\n",
    "        unique_reviews.append(review)\n",
    "        seen_reviews.add((game_id, author))\n",
    "    game_partial_num[game_id] = game_partial_num.get(game_id, 0) + 1\n",
    "    game_partial_sum[game_id] = game_partial_sum.get(game_id, 0) + review[\"rating\"]\n",
    "reviews = unique_reviews"
   ]
  },
  {
   "cell_type": "code",
   "execution_count": 16,
   "metadata": {},
   "outputs": [],
   "source": [
    "# Find the 3 most recent reviews for each user\n",
    "recent_reviews = {}\n",
    "for review in reviews:\n",
    "    user = review[\"author\"][\"username\"]\n",
    "    post_date = review[\"postDate\"]\n",
    "    if user not in recent_reviews:\n",
    "        recent_reviews[user] = []\n",
    "    recent_reviews[user].append({\n",
    "        \"id\": review[\"id\"],\n",
    "        \"postDate\": post_date,\n",
    "        \"game\": {\n",
    "            \"id\": review[\"game\"][\"id\"],\n",
    "            \"name\": review[\"game\"][\"name\"],\n",
    "            \"yearReleased\": review[\"game\"][\"yearReleased\"]\n",
    "        },\n",
    "        \"rating\": review[\"rating\"],\n",
    "        \"content\": review[\"content\"]\n",
    "    })\n",
    "    # Sort the reviews by postDate in descending order and keep only the 3 most recent\n",
    "    recent_reviews[user] = sorted(recent_reviews[user], key=lambda x: x[\"postDate\"], reverse=True)[:3]"
   ]
  },
  {
   "cell_type": "code",
   "execution_count": 17,
   "metadata": {},
   "outputs": [],
   "source": [
    "# Update games with rating voters and average rating\n",
    "for game in games:\n",
    "    game[\"ratingVoters\"] = game_partial_num.get(game[\"id\"], 0)\n",
    "    game[\"averageRating\"] = game_partial_sum.get(game[\"id\"], 0) / game[\"ratingVoters\"] if game[\"ratingVoters\"] > 0 else None"
   ]
  },
  {
   "cell_type": "code",
   "execution_count": 18,
   "metadata": {},
   "outputs": [],
   "source": [
    "# Find the date of the first review for each user\n",
    "user_first_review = {}\n",
    "for review in reviews:\n",
    "    user = review[\"author\"][\"username\"]\n",
    "    post_date = review[\"postDate\"]\n",
    "    user_first_review[user] = post_date if user not in user_first_review else min(user_first_review[user], post_date)\n",
    "\n",
    "# Generate birth dates for users\n",
    "birth_dates = generate_birth_dates(user_first_review)\n",
    "\n",
    "# Insert birth dates into reviews\n",
    "for review in reviews:\n",
    "    review[\"author\"][\"birthDate\"] = birth_dates[review[\"author\"][\"username\"]]"
   ]
  },
  {
   "cell_type": "code",
   "execution_count": 19,
   "metadata": {},
   "outputs": [
    {
     "name": "stderr",
     "output_type": "stream",
     "text": [
      "2025-01-20 12:20:31,245 - INFO - Saved 5000 recent reviews to ..\\data\\temp\\recent_reviews.json.\n",
      "2025-01-20 12:20:31,279 - INFO - Saved 5000 birth dates to ..\\data\\temp\\birth_dates.json.\n",
      "2025-01-20 12:20:31,604 - INFO - Saved 2120 games to ..\\data\\clean\\mongo\\games.json.\n",
      "2025-01-20 12:20:31,684 - INFO - Saved 2120 games to ..\\data\\clean\\neo4j\\games.json.\n",
      "2025-01-20 12:22:31,519 - INFO - Saved 675226 reviews to ..\\data\\clean\\mongo\\reviews.json.\n"
     ]
    }
   ],
   "source": [
    "if recent_reviews:\n",
    "    save_to_json(recent_reviews, RECENT_REVIEWS)\n",
    "logger.info(f\"Saved {len(recent_reviews)} recent reviews to {RECENT_REVIEWS}.\")\n",
    "recent_reviews = None\n",
    "\n",
    "if birth_dates:\n",
    "    save_to_json(birth_dates, BIRTH_DATE_FILE)\n",
    "logger.info(f\"Saved {len(birth_dates)} birth dates to {BIRTH_DATE_FILE}.\")\n",
    "birth_dates = None\n",
    "\n",
    "if games:\n",
    "    save_to_json(games, GAMES_JSON)\n",
    "logger.info(f\"Saved {len(games)} games to {GAMES_JSON}.\")\n",
    "games = None\n",
    "\n",
    "if neo4jgames:\n",
    "    save_to_json(neo4jgames, NEO4J_GAMES_JSON)\n",
    "logger.info(f\"Saved {len(neo4jgames)} games to {NEO4J_GAMES_JSON}.\")\n",
    "neo4jgames = None\n",
    "\n",
    "if reviews:\n",
    "    save_to_json(reviews, REVIEWS_JSON)\n",
    "logger.info(f\"Saved {len(reviews)} reviews to {REVIEWS_JSON}.\")\n",
    "reviews = None"
   ]
  }
 ],
 "metadata": {
  "kernelspec": {
   "display_name": ".venv",
   "language": "python",
   "name": "python3"
  },
  "language_info": {
   "codemirror_mode": {
    "name": "ipython",
    "version": 3
   },
   "file_extension": ".py",
   "mimetype": "text/x-python",
   "name": "python",
   "nbconvert_exporter": "python",
   "pygments_lexer": "ipython3",
   "version": "3.12.4"
  }
 },
 "nbformat": 4,
 "nbformat_minor": 2
}
