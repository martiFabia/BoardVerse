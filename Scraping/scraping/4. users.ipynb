{
 "cells": [
  {
   "cell_type": "markdown",
   "metadata": {},
   "source": [
    "# 4. Retrieve users"
   ]
  },
  {
   "cell_type": "markdown",
   "metadata": {},
   "source": [
    "Requirements"
   ]
  },
  {
   "cell_type": "code",
   "execution_count": 1,
   "metadata": {},
   "outputs": [
    {
     "name": "stdout",
     "output_type": "stream",
     "text": [
      "Note: you may need to restart the kernel to use updated packages.\n"
     ]
    }
   ],
   "source": [
    "%pip install -r ../requirements.txt -q"
   ]
  },
  {
   "cell_type": "markdown",
   "metadata": {},
   "source": [
    "Imports"
   ]
  },
  {
   "cell_type": "code",
   "execution_count": 2,
   "metadata": {},
   "outputs": [],
   "source": [
    "import os\n",
    "import time\n",
    "\n",
    "import pandas as pd\n",
    "\n",
    "import requests\n",
    "import xml.etree.ElementTree as ET\n",
    "import json\n",
    "from tqdm import tqdm\n",
    "import logging\n",
    "from bs4 import BeautifulSoup"
   ]
  },
  {
   "cell_type": "markdown",
   "metadata": {},
   "source": [
    "Logging configuration"
   ]
  },
  {
   "cell_type": "code",
   "execution_count": 3,
   "metadata": {},
   "outputs": [],
   "source": [
    "logging.basicConfig(level=logging.WARNING, format=\"%(asctime)s - %(levelname)s - %(message)s\")\n",
    "logger = logging.getLogger()"
   ]
  },
  {
   "cell_type": "markdown",
   "metadata": {},
   "source": [
    "Constants"
   ]
  },
  {
   "cell_type": "code",
   "execution_count": 4,
   "metadata": {},
   "outputs": [],
   "source": [
    "# Repositories managing\n",
    "DATA_DIR = os.path.join(\"..\", \"data\")\n",
    "TEMP_DIR = os.path.join(DATA_DIR, \"temp\")\n",
    "RAW_DIR = os.path.join(DATA_DIR, \"raw\")"
   ]
  },
  {
   "cell_type": "code",
   "execution_count": null,
   "metadata": {},
   "outputs": [],
   "source": [
    "# Repos creation\n",
    "os.makedirs(DATA_DIR, exist_ok=True)\n",
    "os.makedirs(TEMP_DIR, exist_ok=True)\n",
    "os.makedirs(RAW_DIR, exist_ok=True)"
   ]
  },
  {
   "cell_type": "code",
   "execution_count": null,
   "metadata": {},
   "outputs": [],
   "source": [
    "# Files\n",
    "TOP_GAMES_LIST_FILE = os.path.join(DATA_DIR, \"boardgames_ranks.csv\")\n",
    "USERNAMES_FILE = os.path.join(TEMP_DIR, \"usernames.json\")\n",
    "USERS_FILE = os.path.join(RAW_DIR, \"users.json\")"
   ]
  },
  {
   "cell_type": "code",
   "execution_count": null,
   "metadata": {},
   "outputs": [],
   "source": [
    "# General download parameters\n",
    "BACKUP_PERIOD = 200 # Frequency of data backup\n",
    "\n",
    "REQUEST_DELAY = 0.01    # Delay between requests\n",
    "COLLECTION_REQUEST_DELAY = 0.1  # Delay between requests (collection-specific)\n",
    "\n",
    "MAX_RETRIES = 5 # Max number of retries for a request\n",
    "MAX_COLLECTION_RETRIES = 7  # Max number of retries for a request (collection-specific)"
   ]
  },
  {
   "cell_type": "code",
   "execution_count": null,
   "metadata": {},
   "outputs": [],
   "source": [
    "OVERWRITE = False   # If True, the existing files will be overwritten\n",
    "ALL_USERS = False   # If True, all users will be downloaded\n",
    "USER_NUM = 5000    # Number of users to download"
   ]
  },
  {
   "cell_type": "code",
   "execution_count": 5,
   "metadata": {},
   "outputs": [],
   "source": [
    "# Game interval definition\n",
    "GAME_RANK_MIN = 1   # Rank of the first game to download\n",
    "GAME_RANK_MAX = 2000    # Rank of the last game to download\n",
    "GAME_NUM = GAME_RANK_MAX - GAME_RANK_MIN + 1    # Number of games to download"
   ]
  },
  {
   "cell_type": "code",
   "execution_count": 6,
   "metadata": {},
   "outputs": [],
   "source": [
    "# URLs\n",
    "BGG_BASE_URL = \"https://boardgamegeek.com/xmlapi2\""
   ]
  },
  {
   "cell_type": "markdown",
   "metadata": {},
   "source": [
    "Utility functions"
   ]
  },
  {
   "cell_type": "code",
   "execution_count": 7,
   "metadata": {},
   "outputs": [],
   "source": [
    "def save_to_json(data, filename):\n",
    "    \"\"\"\n",
    "    Save data to a JSON file.\n",
    "\n",
    "    Parameters:\n",
    "    data (any): The data to be saved to the JSON file. This can be any data type that is serializable to JSON.\n",
    "    filename (str): The name of the file where the data will be saved.\n",
    "\n",
    "    Returns:\n",
    "    None\n",
    "    \"\"\"\n",
    "    with open(filename, \"w\", encoding=\"utf-8\") as f:\n",
    "        json.dump(data, f, ensure_ascii=False, indent=4)"
   ]
  },
  {
   "cell_type": "code",
   "execution_count": 8,
   "metadata": {},
   "outputs": [],
   "source": [
    "def append_to_json(new_data, filename):\n",
    "    \"\"\"\n",
    "    Adds new data to an existing JSON file without duplicates.\n",
    "\n",
    "        new_data (list): The new data to add.\n",
    "        filename (str): The name of the JSON file.\n",
    "    \"\"\"\n",
    "    # Read existing data from the file.\n",
    "    try:\n",
    "        with open(filename, \"r\", encoding=\"utf-8\") as f:\n",
    "            existing_data = json.load(f)\n",
    "    except FileNotFoundError:\n",
    "        existing_data = []\n",
    "\n",
    "    # Combine the existing data with the new data and remove duplicates.\n",
    "    combined_data = {json.dumps(item, sort_keys=True): item for item in existing_data + new_data}.values()\n",
    "\n",
    "    # Save the combined data back to the file.\n",
    "    with open(filename, \"w\", encoding=\"utf-8\") as f:\n",
    "        json.dump(list(combined_data), f, ensure_ascii=False, indent=4)"
   ]
  },
  {
   "cell_type": "markdown",
   "metadata": {},
   "source": [
    "## 2.1 Functions"
   ]
  },
  {
   "cell_type": "markdown",
   "metadata": {},
   "source": [
    "Retrieve general user information"
   ]
  },
  {
   "cell_type": "code",
   "execution_count": 9,
   "metadata": {},
   "outputs": [],
   "source": [
    "def fetch_general_user_data(username, sleep_time=REQUEST_DELAY, max_retries=MAX_RETRIES):\n",
    "    \"\"\"\n",
    "    Retrieve general user data from BoardGameGeek.\n",
    "\n",
    "    Args:\n",
    "        username (str): The username of the user.\n",
    "        sleep_time (float): The time to sleep between requests.\n",
    "        max_retries (int): The maximum number of retries in case of errors.\n",
    "\n",
    "    Returns:\n",
    "        dict: The general user data.\n",
    "    \"\"\"\n",
    "    url = f\"{BGG_BASE_URL}/user?name={username}&buddies=1\"\n",
    "    status_code = 500\n",
    "    \n",
    "    # Retry loop for fetching the threads from the forum\n",
    "    while status_code != 200:\n",
    "        # Pause briefly between retries\n",
    "        time.sleep(sleep_time)  # Delay\n",
    "        try:\n",
    "            response = requests.get(url)\n",
    "            status_code = response.status_code\n",
    "            if status_code == 200:\n",
    "                break\n",
    "            max_retries -= 1\n",
    "            if max_retries == 0:\n",
    "                # Log an error if retries are exhausted\n",
    "                logger.error(f\"Error fetching user {username}: {status_code}. Retries exhausted.\")\n",
    "                return []\n",
    "        except Exception as e:\n",
    "            # Log an error if an exception occurs\n",
    "            logger.error(f\"Error fetching user {username}: {e}.\")\n",
    "            return []\n",
    "\n",
    "    if response.status_code == 200:\n",
    "        root = ET.fromstring(response.text)        \n",
    "        # Extract user details\n",
    "        user_data = {\n",
    "            \"id\": root.attrib.get(\"id\"),\n",
    "            \"name\": root.attrib.get(\"name\"),\n",
    "            \"firstname\": root.find(\"firstname\").attrib.get(\"value\", \"\"),\n",
    "            \"lastname\": root.find(\"lastname\").attrib.get(\"value\", \"\"),\n",
    "            \"avatarlink\": root.find(\"avatarlink\").attrib.get(\"value\", \"\"),\n",
    "            \"yearregistered\": root.find(\"yearregistered\").attrib.get(\"value\", \"\"),\n",
    "            \"lastlogin\": root.find(\"lastlogin\").attrib.get(\"value\", \"\"),\n",
    "            \"stateorprovince\": root.find(\"stateorprovince\").attrib.get(\"value\", \"\"),\n",
    "            \"country\": root.find(\"country\").attrib.get(\"value\", \"\"),\n",
    "            \"buddies\": [] # Buddies will be generated from scratch\n",
    "        }\n",
    "        # Return the user data\n",
    "        return user_data\n",
    "    else:\n",
    "        # Log an error if the status code is not 200\n",
    "        logger.error(f\"Error fetching user {username}: {response.status_code}.\")\n",
    "        return []"
   ]
  },
  {
   "cell_type": "markdown",
   "metadata": {},
   "source": [
    "Retrieve user's collection, restricted to the already downloaded board games"
   ]
  },
  {
   "cell_type": "code",
   "execution_count": 10,
   "metadata": {},
   "outputs": [],
   "source": [
    "def fetch_user_collection(username, games_set, sleep_time=REQUEST_DELAY, max_retries=MAX_RETRIES):\n",
    "    \"\"\"\n",
    "    Retrieve the user collection from BoardGameGeek.\n",
    "\n",
    "    Args:\n",
    "        username (str): The username of the user.\n",
    "        games_set (set): The set of games to filter the collection.\n",
    "        sleep_time (float): The time to sleep between requests.\n",
    "        max_retries (int): The maximum number of retries in case of errors.\n",
    "\n",
    "    Returns:\n",
    "        list: The user collection.\n",
    "    \"\"\"\n",
    "    url = f\"{BGG_BASE_URL}/collection?username={username}&subtype=boardgame&excludesubtype=boardgameexpansion\"\n",
    "    status_code = 500\n",
    "    \n",
    "    # Retry loop for fetching collection data\n",
    "    retries = 0\n",
    "    while status_code != 200:\n",
    "        # Pause briefly between retries with exponential backoff\n",
    "        time.sleep(sleep_time * (2 ** retries))  # Delay\n",
    "        try:\n",
    "            response = requests.get(url)\n",
    "            status_code = response.status_code\n",
    "            if status_code == 200:\n",
    "                break\n",
    "            retries += 1\n",
    "            if retries == max_retries:\n",
    "                # Log an error if retries are exhausted\n",
    "                logger.error(f\"Error fetching {username}'s collection: {status_code}. Retries exhausted.\")\n",
    "                return []\n",
    "        except Exception as e:\n",
    "            # Log an error if an exception occurs\n",
    "            logger.error(f\"Error fetching {username}'s collection: {e}.\")\n",
    "            return []\n",
    "\n",
    "    if response.status_code == 200:\n",
    "        # Parse the XML content\n",
    "        root = ET.fromstring(response.text)\n",
    "        games = []\n",
    "\n",
    "        # Iterate through each item (game) in the collection\n",
    "        for item in root.findall(\"item\"):\n",
    "            if int(item.attrib.get(\"objectid\")) not in games_set:\n",
    "                continue            \n",
    "            game = {\n",
    "                \"id\": item.attrib.get(\"objectid\"),\n",
    "                \"name\": item.find(\"name\").text,\n",
    "                \"year_published\": item.find(\"yearpublished\").text if item.find(\"yearpublished\") is not None else None,\n",
    "                \"image\": item.find(\"image\").text if item.find(\"image\") is not None else None,\n",
    "                \"adding_time\": item.find(\"status\").attrib.get(\"lastmodified\") if item.find(\"status\").attrib.get(\"lastmodified\") is not None else None\n",
    "            }\n",
    "            games.append(game)\n",
    "        \n",
    "        return games\n",
    "    else:\n",
    "        # Log an error if the status code is not 200\n",
    "        logger.error(f\"Error fetching user {username}: {response.status_code}.\")\n",
    "        return []"
   ]
  },
  {
   "cell_type": "markdown",
   "metadata": {},
   "source": [
    "## 2.2 Execution"
   ]
  },
  {
   "cell_type": "markdown",
   "metadata": {},
   "source": [
    "Prepare the list of users to retrieve"
   ]
  },
  {
   "cell_type": "code",
   "execution_count": 11,
   "metadata": {},
   "outputs": [],
   "source": [
    "# Load the list of usernames previously collected\n",
    "with open(USERNAMES_FILE, \"r\", encoding=\"utf-8\") as f:\n",
    "    usernames = list(json.load(f))\n",
    "logger.info(f\"Total number of users collected: {len(usernames)}\")\n",
    "\n",
    "# Remove the users already collected\n",
    "if not OVERWRITE:\n",
    "    try:\n",
    "        with open(USERS_FILE, \"r\", encoding=\"utf-8\") as f:\n",
    "            users = json.load(f)\n",
    "        users = {user[\"name\"]: user for user in users}\n",
    "        usernames = [username for username in usernames if username not in users]\n",
    "    except FileNotFoundError:\n",
    "        users = []\n",
    "logger.info(f\"Total number of users not yet collected: {len(usernames)}\")\n",
    "\n",
    "# Remove duplicates and limit the number of users\n",
    "if not ALL_USERS:\n",
    "    usernames = set(usernames[:USER_NUM-len(users)])\n",
    "else:\n",
    "    usernames = set(usernames)\n",
    "logger.info(f\"Total number of users to collect: {len(usernames)}\")\n",
    "\n",
    "# Retrieve Top games ids\n",
    "top_games_df = pd.read_csv(TOP_GAMES_LIST_FILE)\n",
    "games = set(top_games_df.loc[GAME_RANK_MIN-1:GAME_RANK_MAX-1, 'id'])"
   ]
  },
  {
   "cell_type": "markdown",
   "metadata": {},
   "source": [
    "Retrieve users infromation"
   ]
  },
  {
   "cell_type": "code",
   "execution_count": 12,
   "metadata": {},
   "outputs": [],
   "source": [
    "saved_once = not OVERWRITE"
   ]
  },
  {
   "cell_type": "code",
   "execution_count": 13,
   "metadata": {},
   "outputs": [
    {
     "name": "stderr",
     "output_type": "stream",
     "text": [
      " 16%|█▌        | 531/3400 [1:54:36<9:56:14, 12.47s/it] 2025-01-17 01:40:21,306 - ERROR - Error fetching TheLimestoneCowboy's collection: 429. Retries exhausted.\n",
      " 16%|█▌        | 532/3400 [1:54:55<11:33:49, 14.52s/it]2025-01-17 01:40:40,430 - ERROR - Error fetching Bizud's collection: 202. Retries exhausted.\n",
      " 16%|█▌        | 534/3400 [1:55:16<9:24:07, 11.81s/it] 2025-01-17 01:41:01,576 - ERROR - Error fetching Now Thats A FancyDan's collection: 429. Retries exhausted.\n",
      " 32%|███▏      | 1074/3400 [3:54:33<7:59:24, 12.37s/it]2025-01-17 03:40:18,535 - ERROR - Error fetching Perimones's collection: 429. Retries exhausted.\n",
      " 32%|███▏      | 1075/3400 [3:54:52<9:15:09, 14.33s/it]2025-01-17 03:40:37,422 - ERROR - Error fetching MeepleDimples's collection: 202. Retries exhausted.\n",
      " 32%|███▏      | 1076/3400 [3:55:11<10:07:54, 15.69s/it]2025-01-17 03:40:56,230 - ERROR - Error fetching akomen999's collection: 202. Retries exhausted.\n",
      " 32%|███▏      | 1077/3400 [3:55:30<10:43:48, 16.63s/it]2025-01-17 03:41:15,441 - ERROR - Error fetching vlesperance's collection: 202. Retries exhausted.\n",
      " 32%|███▏      | 1078/3400 [3:55:49<11:13:30, 17.40s/it]2025-01-17 03:41:34,184 - ERROR - Error fetching sot07's collection: 202. Retries exhausted.\n",
      " 32%|███▏      | 1093/3400 [3:59:20<7:43:07, 12.04s/it] 2025-01-17 03:45:05,290 - ERROR - Error fetching rmiczek's collection: 429. Retries exhausted.\n",
      " 58%|█████▊    | 1971/3400 [7:11:44<4:57:39, 12.50s/it] 2025-01-17 06:57:29,547 - ERROR - Error fetching Bonham R's collection: 429. Retries exhausted.\n",
      " 70%|██████▉   | 2363/3400 [8:38:15<3:36:55, 12.55s/it]2025-01-17 08:24:01,077 - ERROR - Error fetching ecoboardgeek123's collection: 429. Retries exhausted.\n",
      " 80%|███████▉  | 2706/3400 [9:54:36<2:54:13, 15.06s/it]2025-01-17 09:40:21,083 - ERROR - Error fetching interestingkiwi's collection: 202. Retries exhausted.\n",
      " 80%|███████▉  | 2707/3400 [9:54:55<3:07:21, 16.22s/it]2025-01-17 09:40:40,528 - ERROR - Error fetching kakuuuu's collection: 429. Retries exhausted.\n",
      " 80%|███████▉  | 2708/3400 [9:55:14<3:18:14, 17.19s/it]2025-01-17 09:40:59,672 - ERROR - Error fetching zeldaella's collection: 202. Retries exhausted.\n",
      " 80%|███████▉  | 2709/3400 [9:55:33<3:24:42, 17.78s/it]2025-01-17 09:41:18,823 - ERROR - Error fetching hojoh's collection: 202. Retries exhausted.\n",
      " 80%|███████▉  | 2710/3400 [9:55:53<3:29:09, 18.19s/it]2025-01-17 09:41:37,625 - ERROR - Error fetching heathbarATL's collection: 202. Retries exhausted.\n",
      " 96%|█████████▌| 3258/3400 [11:54:30<30:40, 12.96s/it]  2025-01-17 11:40:15,957 - ERROR - Error fetching djhopscotch's collection: 429. Retries exhausted.\n",
      " 96%|█████████▌| 3259/3400 [11:54:50<35:01, 14.91s/it]2025-01-17 11:40:35,017 - ERROR - Error fetching Born-of-Ashes's collection: 202. Retries exhausted.\n",
      " 96%|█████████▌| 3260/3400 [11:55:09<37:41, 16.15s/it]2025-01-17 11:40:53,876 - ERROR - Error fetching DanielTroi's collection: 202. Retries exhausted.\n",
      " 96%|█████████▌| 3261/3400 [11:55:28<39:18, 16.96s/it]2025-01-17 11:41:13,081 - ERROR - Error fetching ravel's collection: 202. Retries exhausted.\n",
      "100%|██████████| 3400/3400 [12:27:16<00:00, 13.19s/it]\n"
     ]
    }
   ],
   "source": [
    "all_data = []\n",
    "i = 0\n",
    "\n",
    "for username in tqdm(usernames):\n",
    "    if logger.isEnabledFor(logging.INFO):\n",
    "        print()\n",
    "    \n",
    "    # Retrieve general user's profile data\n",
    "    user = fetch_general_user_data(username, sleep_time=REQUEST_DELAY, max_retries=MAX_RETRIES)\n",
    "    if user is None:\n",
    "        continue\n",
    "    logger.info(f\"User {username} ({user['id']}) retrieved. Retrieving user's collection...\")\n",
    "\n",
    "    # Retrieve user's collection\n",
    "    collection = fetch_user_collection(username, games_set=games, sleep_time=COLLECTION_REQUEST_DELAY, max_retries=MAX_COLLECTION_RETRIES)\n",
    "    logger.info(f\"User {username} ({user['id']}) collection retrieved.\")\n",
    "\n",
    "    # Append user's collection to the general user's profile data\n",
    "    user[\"collection\"] = collection\n",
    "\n",
    "    # Append user's data to the list of all data\n",
    "    all_data.append(user)\n",
    "\n",
    "    i += 1\n",
    "    if i % BACKUP_PERIOD == 0:\n",
    "        # Save the data to the JSON file\n",
    "        if not saved_once:\n",
    "            # Save the data to the JSON file\n",
    "            save_to_json(all_data, USERS_FILE)\n",
    "            saved_once = True\n",
    "        else:\n",
    "            # Append the data to the JSON file\n",
    "            append_to_json(all_data, USERS_FILE)\n",
    "        logger.info(f\"Saved {i} user(s) into '{USERS_FILE}'\")\n",
    "\n",
    "        # Reset the data list\n",
    "        all_data = []\n",
    "\n",
    "# Save the data to the JSON file\n",
    "if all_data:\n",
    "    if not saved_once:\n",
    "        # Save the data to the JSON file\n",
    "        save_to_json(all_data, USERS_FILE)\n",
    "    else:\n",
    "        # Append the data to the JSON file\n",
    "        append_to_json(all_data, USERS_FILE)\n",
    "    logger.info(f\"Saved {i} user(s) into '{USERS_FILE}'\")"
   ]
  }
 ],
 "metadata": {
  "kernelspec": {
   "display_name": ".venv",
   "language": "python",
   "name": "python3"
  },
  "language_info": {
   "codemirror_mode": {
    "name": "ipython",
    "version": 3
   },
   "file_extension": ".py",
   "mimetype": "text/x-python",
   "name": "python",
   "nbconvert_exporter": "python",
   "pygments_lexer": "ipython3",
   "version": "3.12.4"
  }
 },
 "nbformat": 4,
 "nbformat_minor": 2
}
