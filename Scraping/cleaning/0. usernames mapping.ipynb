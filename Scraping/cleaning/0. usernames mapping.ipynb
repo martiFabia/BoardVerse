{
 "cells": [
  {
   "cell_type": "markdown",
   "metadata": {},
   "source": [
    "# 0. Username mapping"
   ]
  },
  {
   "cell_type": "markdown",
   "metadata": {},
   "source": [
    "Requirements"
   ]
  },
  {
   "cell_type": "code",
   "execution_count": 50,
   "metadata": {},
   "outputs": [
    {
     "name": "stdout",
     "output_type": "stream",
     "text": [
      "Note: you may need to restart the kernel to use updated packages.\n"
     ]
    }
   ],
   "source": [
    "%pip install -r ../requirements.txt -q"
   ]
  },
  {
   "cell_type": "markdown",
   "metadata": {},
   "source": [
    "Imports"
   ]
  },
  {
   "cell_type": "code",
   "execution_count": 51,
   "metadata": {},
   "outputs": [],
   "source": [
    "import os\n",
    "import time\n",
    "\n",
    "import pandas as pd\n",
    "import numpy as np\n",
    "\n",
    "import json\n",
    "from tqdm import tqdm\n",
    "import logging\n",
    "\n",
    "import random"
   ]
  },
  {
   "cell_type": "markdown",
   "metadata": {},
   "source": [
    "Logging configuration"
   ]
  },
  {
   "cell_type": "code",
   "execution_count": 52,
   "metadata": {},
   "outputs": [],
   "source": [
    "logging.basicConfig(level=logging.INFO, format=\"%(asctime)s - %(levelname)s - %(message)s\")\n",
    "logger = logging.getLogger()"
   ]
  },
  {
   "cell_type": "markdown",
   "metadata": {},
   "source": [
    "Constants"
   ]
  },
  {
   "cell_type": "code",
   "execution_count": 53,
   "metadata": {},
   "outputs": [],
   "source": [
    "# Repositories\n",
    "DATA_DIR = os.path.join(\"..\", \"data\")\n",
    "TEMP_DIR = os.path.join(DATA_DIR, \"temp\")\n",
    "RAW_DIR = os.path.join(DATA_DIR, \"raw\")\n",
    "MONGO_DIR = os.path.join(DATA_DIR, \"clean\", \"mongo\")\n",
    "NEO4J_DIR = os.path.join(DATA_DIR, \"clean\", \"neo4j\")"
   ]
  },
  {
   "cell_type": "code",
   "execution_count": 54,
   "metadata": {},
   "outputs": [],
   "source": [
    "BACKUP_PERIOD = 3000 # Frequency of data backup"
   ]
  },
  {
   "cell_type": "code",
   "execution_count": 55,
   "metadata": {},
   "outputs": [],
   "source": [
    "# Files\n",
    "USERNAMES_FILE = os.path.join(TEMP_DIR, \"usernames.json\")\n",
    "\n",
    "USERS_FILE = os.path.join(RAW_DIR, \"users.json\")\n",
    "BOARD_GAME_FILE = os.path.join(RAW_DIR, \"boardgames&reviews.json\")\n",
    "\n",
    "MAP_FILE = os.path.join(TEMP_DIR, \"user_map.json\")"
   ]
  },
  {
   "cell_type": "markdown",
   "metadata": {},
   "source": [
    "Utility functions"
   ]
  },
  {
   "cell_type": "code",
   "execution_count": 56,
   "metadata": {},
   "outputs": [],
   "source": [
    "def save_to_json(data, filename):\n",
    "    \"\"\"\n",
    "    Save data to a JSON file.\n",
    "\n",
    "    Parameters:\n",
    "    data (any): The data to be saved to the JSON file. This can be any data type that is serializable to JSON.\n",
    "    filename (str): The name of the file where the data will be saved.\n",
    "\n",
    "    Returns:\n",
    "    None\n",
    "    \"\"\"\n",
    "    with open(filename, \"w\", encoding=\"utf-8\") as f:\n",
    "        json.dump(data, f, ensure_ascii=False, indent=4)"
   ]
  },
  {
   "cell_type": "markdown",
   "metadata": {},
   "source": [
    "## Functions"
   ]
  },
  {
   "cell_type": "code",
   "execution_count": 57,
   "metadata": {},
   "outputs": [],
   "source": [
    "def create_username_mapping(downloaded_usernames, nondownloaded_usernames):\n",
    "    \"\"\"\n",
    "    Crea una mappatura univoca da usernames non scaricati a usernames scaricati.\n",
    "    \"\"\"\n",
    "    # Assegna casualmente username scaricati agli username non scaricati\n",
    "    mapping = {}\n",
    "    downloaded_usernames_list = list(downloaded_usernames)\n",
    "    for username in nondownloaded_usernames:\n",
    "        mapping[username] = random.choice(downloaded_usernames_list)\n",
    "    for username in downloaded_usernames:\n",
    "        mapping[username] = username\n",
    "    return mapping"
   ]
  },
  {
   "cell_type": "code",
   "execution_count": 58,
   "metadata": {},
   "outputs": [],
   "source": [
    "def replace_username(username, mapping):\n",
    "    \"\"\"\n",
    "    Sostituisce un singolo username con quello corrispondente nella mappatura.\n",
    "    Se l'username non è presente nella mappatura, ritorna l'originale.\n",
    "    \"\"\"\n",
    "    return mapping.get(username, username)"
   ]
  },
  {
   "cell_type": "markdown",
   "metadata": {},
   "source": [
    "## Execution"
   ]
  },
  {
   "cell_type": "code",
   "execution_count": 59,
   "metadata": {},
   "outputs": [
    {
     "name": "stderr",
     "output_type": "stream",
     "text": [
      "2025-01-20 01:11:30,130 - INFO - Utenti in lista: 33394\n",
      "2025-01-20 01:11:36,400 - INFO - Utenti scaricati: 5000\n",
      "2025-01-20 01:11:42,474 - INFO - Utenti con recensioni: 102985\n",
      "2025-01-20 01:11:42,499 - INFO - Utenti totali: 121273\n"
     ]
    }
   ],
   "source": [
    "with open(USERNAMES_FILE, \"r\", encoding=\"utf-8\") as f:\n",
    "    all_users = set(json.load(f))\n",
    "logger.info(f\"Utenti in lista: {len(all_users)}\")\n",
    "\n",
    "with open(USERS_FILE, \"r\", encoding=\"utf-8\") as f:\n",
    "    downloaded_users = set([user[\"name\"] for user in json.load(f)])\n",
    "logger.info(f\"Utenti scaricati: {len(downloaded_users)}\")\n",
    "\n",
    "with open(BOARD_GAME_FILE, \"r\", encoding=\"utf-8\") as f:\n",
    "    boardgames = json.load(f)\n",
    "username_reviews = set([review[\"user\"] for game in boardgames for review in game[\"reviews\"]])\n",
    "logger.info(f\"Utenti con recensioni: {len(username_reviews)}\")\n",
    "\n",
    "all_users = all_users.union(username_reviews)\n",
    "logger.info(f\"Utenti totali: {len(all_users)}\")"
   ]
  },
  {
   "cell_type": "code",
   "execution_count": 60,
   "metadata": {},
   "outputs": [
    {
     "name": "stderr",
     "output_type": "stream",
     "text": [
      "2025-01-20 01:12:05,184 - INFO - Mappatura creata: [('Betbet', 'Xangxa'), ('derpderps', 'Elkar'), ('Gulgothica', 'Kortnek'), ('nibbons', 'superman829'), ('january31', 'thecrisper')]\n"
     ]
    }
   ],
   "source": [
    "username_mapping = create_username_mapping(downloaded_users, all_users - downloaded_users)\n",
    "logger.info(f\"Mappatura creata: {list(username_mapping.items())[:5]}\")"
   ]
  },
  {
   "cell_type": "code",
   "execution_count": 61,
   "metadata": {},
   "outputs": [
    {
     "name": "stderr",
     "output_type": "stream",
     "text": [
      "2025-01-20 01:12:08,057 - INFO - Mappatura salvata in ..\\data\\temp\\user_map.json\n"
     ]
    }
   ],
   "source": [
    "save_to_json(username_mapping, MAP_FILE)\n",
    "logger.info(f\"Mappatura salvata in {MAP_FILE}\")"
   ]
  }
 ],
 "metadata": {
  "kernelspec": {
   "display_name": ".venv",
   "language": "python",
   "name": "python3"
  },
  "language_info": {
   "codemirror_mode": {
    "name": "ipython",
    "version": 3
   },
   "file_extension": ".py",
   "mimetype": "text/x-python",
   "name": "python",
   "nbconvert_exporter": "python",
   "pygments_lexer": "ipython3",
   "version": "3.12.4"
  }
 },
 "nbformat": 4,
 "nbformat_minor": 2
}
