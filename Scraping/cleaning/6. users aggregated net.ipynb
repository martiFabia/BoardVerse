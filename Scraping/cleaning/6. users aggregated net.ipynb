{
 "cells": [
  {
   "cell_type": "markdown",
   "metadata": {},
   "source": [
    "# 6. users.json"
   ]
  },
  {
   "cell_type": "markdown",
   "metadata": {},
   "source": [
    "Requirements"
   ]
  },
  {
   "cell_type": "code",
   "execution_count": 1,
   "metadata": {},
   "outputs": [
    {
     "name": "stdout",
     "output_type": "stream",
     "text": [
      "Note: you may need to restart the kernel to use updated packages.\n"
     ]
    }
   ],
   "source": [
    "%pip install -r ../requirements.txt -q"
   ]
  },
  {
   "cell_type": "markdown",
   "metadata": {},
   "source": [
    "Imports"
   ]
  },
  {
   "cell_type": "code",
   "execution_count": 2,
   "metadata": {},
   "outputs": [],
   "source": [
    "import os\n",
    "import time\n",
    "\n",
    "import pandas as pd\n",
    "import numpy as np\n",
    "\n",
    "import json\n",
    "from tqdm import tqdm\n",
    "import logging\n",
    "\n",
    "import uuid\n",
    "import random\n",
    "from datetime import datetime, timedelta"
   ]
  },
  {
   "cell_type": "markdown",
   "metadata": {},
   "source": [
    "Logging configuration"
   ]
  },
  {
   "cell_type": "code",
   "execution_count": 3,
   "metadata": {},
   "outputs": [],
   "source": [
    "logging.basicConfig(level=logging.INFO, format=\"%(asctime)s - %(levelname)s - %(message)s\")\n",
    "logger = logging.getLogger()"
   ]
  },
  {
   "cell_type": "markdown",
   "metadata": {},
   "source": [
    "Constants"
   ]
  },
  {
   "cell_type": "code",
   "execution_count": 4,
   "metadata": {},
   "outputs": [],
   "source": [
    "# Repositories\n",
    "DATA_DIR = os.path.join(\"..\", \"data\")\n",
    "TEMP_DIR = os.path.join(DATA_DIR, \"temp\")\n",
    "RAW_DIR = os.path.join(DATA_DIR, \"raw\")\n",
    "MONGO_DIR = os.path.join(DATA_DIR, \"clean\", \"mongo\")\n",
    "NEO4J_DIR = os.path.join(DATA_DIR, \"clean\", \"neo4j\")"
   ]
  },
  {
   "cell_type": "code",
   "execution_count": 5,
   "metadata": {},
   "outputs": [],
   "source": [
    "# Repos creation\n",
    "os.makedirs(DATA_DIR, exist_ok=True)\n",
    "os.makedirs(TEMP_DIR, exist_ok=True)\n",
    "os.makedirs(RAW_DIR, exist_ok=True)\n",
    "os.makedirs(MONGO_DIR, exist_ok=True)\n",
    "os.makedirs(NEO4J_DIR, exist_ok=True)"
   ]
  },
  {
   "cell_type": "code",
   "execution_count": 6,
   "metadata": {},
   "outputs": [],
   "source": [
    "# Files\n",
    "NEO4J_FOLLOWERS = os.path.join(NEO4J_DIR, \"followers.json\")\n",
    "NEO4J_WINNERS_JSON = os.path.join(NEO4J_DIR, \"winners.json\")\n",
    "NEO4J_PARTICIPANTS_JSON = os.path.join(NEO4J_DIR, \"participants.json\")\n",
    "NEO4J_ADMINISTRATORS_JSON = os.path.join(NEO4J_DIR, \"administrators.json\")\n",
    "\n",
    "MONGO_USERS_JSON = os.path.join(MONGO_DIR, \"users.json\")"
   ]
  },
  {
   "cell_type": "markdown",
   "metadata": {},
   "source": [
    "Utility functions"
   ]
  },
  {
   "cell_type": "code",
   "execution_count": 7,
   "metadata": {},
   "outputs": [],
   "source": [
    "def save_to_json(data, filename):\n",
    "    \"\"\"\n",
    "    Save data to a JSON file.\n",
    "\n",
    "    Parameters:\n",
    "    data (any): The data to be saved to the JSON file. This can be any data type that is serializable to JSON.\n",
    "    filename (str): The name of the file where the data will be saved.\n",
    "\n",
    "    Returns:\n",
    "    None\n",
    "    \"\"\"\n",
    "    with open(filename, \"w\", encoding=\"utf-8\") as f:\n",
    "        json.dump(data, f, ensure_ascii=False, indent=4)"
   ]
  },
  {
   "cell_type": "markdown",
   "metadata": {},
   "source": [
    "## Execution"
   ]
  },
  {
   "cell_type": "code",
   "execution_count": 8,
   "metadata": {},
   "outputs": [
    {
     "name": "stderr",
     "output_type": "stream",
     "text": [
      "2025-01-21 11:25:40,111 - INFO - Followers: 259629\n",
      "2025-01-21 11:25:40,134 - INFO - Winners: 9799\n",
      "2025-01-21 11:25:41,184 - INFO - Participants: 531808\n",
      "2025-01-21 11:25:41,235 - INFO - Administrators: 20006\n",
      "2025-01-21 11:25:41,485 - INFO - Users: 5000\n"
     ]
    }
   ],
   "source": [
    "with open(NEO4J_FOLLOWERS, \"r\", encoding=\"utf-8\") as f:\n",
    "    relationships = json.load(f)\n",
    "logger.info(f\"Followers: {len(relationships)}\")\n",
    "\n",
    "with open(NEO4J_WINNERS_JSON, \"r\", encoding=\"utf-8\") as f:\n",
    "    winners = json.load(f)\n",
    "logger.info(f\"Winners: {len(winners)}\")\n",
    "\n",
    "with open(NEO4J_PARTICIPANTS_JSON, \"r\", encoding=\"utf-8\") as f:\n",
    "    participants = json.load(f)\n",
    "logger.info(f\"Participants: {len(participants)}\")\n",
    "\n",
    "with open(NEO4J_ADMINISTRATORS_JSON, \"r\", encoding=\"utf-8\") as f:\n",
    "    administrators = json.load(f)\n",
    "logger.info(f\"Administrators: {len(administrators)}\")\n",
    "\n",
    "with open(MONGO_USERS_JSON, \"r\", encoding=\"utf-8\") as f:\n",
    "    users = json.load(f)\n",
    "logger.info(f\"Users: {len(users)}\")"
   ]
  },
  {
   "cell_type": "code",
   "execution_count": 16,
   "metadata": {},
   "outputs": [
    {
     "name": "stderr",
     "output_type": "stream",
     "text": [
      "Users:   0%|          | 0/5000 [00:00<?, ?it/s]"
     ]
    },
    {
     "name": "stderr",
     "output_type": "stream",
     "text": [
      "Users: 100%|██████████| 5000/5000 [13:10<00:00,  6.32it/s]\n"
     ]
    }
   ],
   "source": [
    "final_users = []\n",
    "for user in tqdm(users, desc=\"Users\"):\n",
    "\n",
    "    # Set computed data\n",
    "    user[\"followers\"] = len([x for x in relationships if x[\"followed\"] == user[\"username\"]])\n",
    "    user[\"following\"] = len([x for x in relationships if x[\"follower\"] == user[\"username\"]])\n",
    "    user[\"tournaments\"] = {\n",
    "        \"partecipated\": len([x for x in participants if x[\"participant\"] == user[\"username\"]]),\n",
    "        \"won\": len([x for x in winners if x[\"winner\"] == user[\"id\"]]),\n",
    "        \"created\": len([x for x in administrators if x[\"administrator\"] == user[\"username\"]])\n",
    "    }\n",
    "\n",
    "    final_users.append(user)"
   ]
  },
  {
   "cell_type": "code",
   "execution_count": 17,
   "metadata": {},
   "outputs": [
    {
     "data": {
      "text/plain": [
       "[{'id': '40acdbcf-be6d-4e9c-a6bc-a23e3515d3fd',\n",
       "  'username': 'respino',\n",
       "  'firstName': 'Emanuele',\n",
       "  'lastName': 'Respino',\n",
       "  'email': 'emanuele.respino4517@yahoo.com',\n",
       "  'password': '87b555c0457fb41ebe56d877761376315014441693aece27297664aa02541aeb',\n",
       "  'birthDate': '1956-05-01',\n",
       "  'location': {'city': None, 'stateOrProvince': 'Toscana', 'country': 'Italy'},\n",
       "  'followers': 9,\n",
       "  'following': 40,\n",
       "  'tournaments': {'partecipated': 20, 'won': 0, 'created': 4},\n",
       "  'mostRecentReviews': [{'id': 'bed14528-79a1-44f1-950c-637b1950cbb0',\n",
       "    'postDate': '2022-11-25T00:00:00Z',\n",
       "    'game': {'id': '728b498f-bffd-40f0-9013-8dfcb434571b',\n",
       "     'name': 'Oathsworn: Into the Deepwood',\n",
       "     'yearReleased': 2022},\n",
       "    'rating': 7.0,\n",
       "    'content': 'Play with a friend who owns a copy. Brilliant game, terrific story and atmosphere, intense battles.'},\n",
       "   {'id': '63a3a9ed-d61c-4e86-a5c2-6111d405b9cf',\n",
       "    'postDate': '2022-09-14T00:00:00Z',\n",
       "    'game': {'id': '5f0df14a-8760-47b8-8130-8da8591af0c9',\n",
       "     'name': 'Frosthaven',\n",
       "     'yearReleased': 2022},\n",
       "    'rating': 10.0,\n",
       "    'content': 'Lots of game play packed into this box.'},\n",
       "   {'id': 'b876de02-af72-47c3-9ac5-4f338e0b4f82',\n",
       "    'postDate': '2022-04-14T00:00:00Z',\n",
       "    'game': {'id': 'c64b98b2-3bc9-428a-b1b7-3dbf008aac84',\n",
       "     'name': \"Star Wars: Jabba's Palace – A Love Letter Game\",\n",
       "     'yearReleased': 2022},\n",
       "    'rating': 8.0,\n",
       "    'content': \"A variant of Love Letter that borrows a little from Lost Legacy as well perhaps with the potential to trigger end-game winning conditions. That's fine with me, I like both implementations of the core 'play one, draw one' concept. The Star Wars setting integrates surprisingly well, with an appropriate and interesting imbalance between the Palace and Rebellion characters. Boba Fett can capture anyone from Jabba or the Rancor to Luke or carbonite Han, so the badass bounty hunter metre is very high.\"}],\n",
       "  'role': 'ROLE_USER'}]"
      ]
     },
     "execution_count": 17,
     "metadata": {},
     "output_type": "execute_result"
    }
   ],
   "source": [
    "[user for user in final_users if user[\"username\"] == \"respino\"]"
   ]
  },
  {
   "cell_type": "code",
   "execution_count": 18,
   "metadata": {},
   "outputs": [
    {
     "name": "stderr",
     "output_type": "stream",
     "text": [
      "2025-01-21 11:52:25,699 - INFO - Users: 5000\n"
     ]
    }
   ],
   "source": [
    "with open(MONGO_USERS_JSON, \"w\", encoding=\"utf-8\") as f:\n",
    "    json.dump(final_users, f, ensure_ascii=False, indent=4)\n",
    "logger.info(f\"Users: {len(final_users)}\")"
   ]
  }
 ],
 "metadata": {
  "kernelspec": {
   "display_name": ".venv",
   "language": "python",
   "name": "python3"
  },
  "language_info": {
   "codemirror_mode": {
    "name": "ipython",
    "version": 3
   },
   "file_extension": ".py",
   "mimetype": "text/x-python",
   "name": "python",
   "nbconvert_exporter": "python",
   "pygments_lexer": "ipython3",
   "version": "3.12.4"
  }
 },
 "nbformat": 4,
 "nbformat_minor": 2
}
