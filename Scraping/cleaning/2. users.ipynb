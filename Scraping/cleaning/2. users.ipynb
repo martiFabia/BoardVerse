{
 "cells": [
  {
   "cell_type": "markdown",
   "metadata": {},
   "source": [
    "# 2. users.json"
   ]
  },
  {
   "cell_type": "markdown",
   "metadata": {},
   "source": [
    "Requirements"
   ]
  },
  {
   "cell_type": "code",
   "execution_count": 21,
   "metadata": {},
   "outputs": [
    {
     "name": "stdout",
     "output_type": "stream",
     "text": [
      "Note: you may need to restart the kernel to use updated packages.\n"
     ]
    }
   ],
   "source": [
    "%pip install -r ../requirements.txt -q"
   ]
  },
  {
   "cell_type": "markdown",
   "metadata": {},
   "source": [
    "Imports"
   ]
  },
  {
   "cell_type": "code",
   "execution_count": 22,
   "metadata": {},
   "outputs": [],
   "source": [
    "import os\n",
    "import time\n",
    "\n",
    "import pandas as pd\n",
    "import numpy as np\n",
    "\n",
    "import json\n",
    "from tqdm import tqdm\n",
    "import logging\n",
    "\n",
    "import uuid\n",
    "import random\n",
    "from datetime import datetime, timedelta\n",
    "\n",
    "import string\n",
    "import secrets\n",
    "import hashlib"
   ]
  },
  {
   "cell_type": "markdown",
   "metadata": {},
   "source": [
    "Logging configuration"
   ]
  },
  {
   "cell_type": "code",
   "execution_count": 23,
   "metadata": {},
   "outputs": [],
   "source": [
    "logging.basicConfig(level=logging.INFO, format=\"%(asctime)s - %(levelname)s - %(message)s\")\n",
    "logger = logging.getLogger()"
   ]
  },
  {
   "cell_type": "markdown",
   "metadata": {},
   "source": [
    "Constants"
   ]
  },
  {
   "cell_type": "code",
   "execution_count": 24,
   "metadata": {},
   "outputs": [],
   "source": [
    "# Repositories\n",
    "DATA_DIR = os.path.join(\"..\", \"data\")\n",
    "TEMP_DIR = os.path.join(DATA_DIR, \"temp\")\n",
    "RAW_DIR = os.path.join(DATA_DIR, \"raw\")\n",
    "MONGO_DIR = os.path.join(DATA_DIR, \"clean\", \"mongo\")\n",
    "NEO4J_DIR = os.path.join(DATA_DIR, \"clean\", \"neo4j\")"
   ]
  },
  {
   "cell_type": "code",
   "execution_count": 25,
   "metadata": {},
   "outputs": [],
   "source": [
    "# Repos creation\n",
    "os.makedirs(DATA_DIR, exist_ok=True)\n",
    "os.makedirs(TEMP_DIR, exist_ok=True)\n",
    "os.makedirs(RAW_DIR, exist_ok=True)\n",
    "os.makedirs(MONGO_DIR, exist_ok=True)\n",
    "os.makedirs(NEO4J_DIR, exist_ok=True)"
   ]
  },
  {
   "cell_type": "code",
   "execution_count": 26,
   "metadata": {},
   "outputs": [],
   "source": [
    "# Files\n",
    "MAP_FILE = os.path.join(TEMP_DIR, \"user_map.json\")\n",
    "BIRTH_DATE_FILE = os.path.join(TEMP_DIR, \"birth_dates.json\")\n",
    "RECENT_REVIEWS = os.path.join(TEMP_DIR, \"recent_reviews.json\")\n",
    "\n",
    "BOARD_GAMES_FILE = os.path.join(RAW_DIR, \"boardgames&reviews.json\")\n",
    "USERS_FILE = os.path.join(RAW_DIR, \"users.json\")\n",
    "\n",
    "MONGO_USERS_JSON = os.path.join(MONGO_DIR, \"users.json\")\n",
    "NEO4J_USERS_JSON = os.path.join(NEO4J_DIR, \"users.json\")"
   ]
  },
  {
   "cell_type": "markdown",
   "metadata": {},
   "source": [
    "Utility functions"
   ]
  },
  {
   "cell_type": "code",
   "execution_count": 27,
   "metadata": {},
   "outputs": [],
   "source": [
    "def save_to_json(data, filename):\n",
    "    \"\"\"\n",
    "    Save data to a JSON file.\n",
    "\n",
    "    Parameters:\n",
    "    data (any): The data to be saved to the JSON file. This can be any data type that is serializable to JSON.\n",
    "    filename (str): The name of the file where the data will be saved.\n",
    "\n",
    "    Returns:\n",
    "    None\n",
    "    \"\"\"\n",
    "    with open(filename, \"w\", encoding=\"utf-8\") as f:\n",
    "        json.dump(data, f, ensure_ascii=False, indent=4)"
   ]
  },
  {
   "cell_type": "code",
   "execution_count": 28,
   "metadata": {},
   "outputs": [],
   "source": [
    "def append_to_json(new_data, filename):\n",
    "    \"\"\"\n",
    "    Adds new data to an existing JSON file without duplicates.\n",
    "\n",
    "        new_data (list): The new data to add.\n",
    "        filename (str): The name of the JSON file.\n",
    "    \"\"\"\n",
    "    # Read existing data from the file.\n",
    "    try:\n",
    "        with open(filename, \"r\", encoding=\"utf-8\") as f:\n",
    "            existing_data = json.load(f)\n",
    "    except FileNotFoundError:\n",
    "        existing_data = []\n",
    "\n",
    "    # Combine the existing data with the new data and remove duplicates.\n",
    "    combined_data = {json.dumps(item, sort_keys=True): item for item in existing_data + new_data}.values()\n",
    "\n",
    "    # Save the combined data back to the file.\n",
    "    with open(filename, \"w\", encoding=\"utf-8\") as f:\n",
    "        json.dump(list(combined_data), f, ensure_ascii=False, indent=4)"
   ]
  },
  {
   "cell_type": "markdown",
   "metadata": {},
   "source": [
    "## Functions"
   ]
  },
  {
   "cell_type": "code",
   "execution_count": 29,
   "metadata": {},
   "outputs": [],
   "source": [
    "def generate_random_password(length=12):\n",
    "    \"\"\"\n",
    "    Genera una password casuale con caratteri alfanumerici e simboli speciali.\n",
    "    \"\"\"\n",
    "    characters = string.ascii_letters + string.digits + \"!@#$%^&*()-_=+<>?\"\n",
    "    password = ''.join(secrets.choice(characters) for _ in range(length))\n",
    "    return password"
   ]
  },
  {
   "cell_type": "code",
   "execution_count": 30,
   "metadata": {},
   "outputs": [],
   "source": [
    "def hash_password(password):\n",
    "    \"\"\"\n",
    "    Codifica una password in SHA-256 e restituisce l'hash in formato esadecimale.\n",
    "    \"\"\"\n",
    "    hashed = hashlib.sha256(password.encode('utf-8')).hexdigest()\n",
    "    return hashed"
   ]
  },
  {
   "cell_type": "markdown",
   "metadata": {},
   "source": [
    "## Execution"
   ]
  },
  {
   "cell_type": "code",
   "execution_count": 31,
   "metadata": {},
   "outputs": [
    {
     "name": "stderr",
     "output_type": "stream",
     "text": [
      "2025-01-20 12:35:34,774 - INFO - Loaded 5000 users.\n",
      "2025-01-20 12:35:34,888 - INFO - Loaded 121274 user mappings.\n",
      "2025-01-20 12:35:34,909 - INFO - Loaded 5000 birth dates.\n"
     ]
    }
   ],
   "source": [
    "with open(USERS_FILE, \"r\", encoding=\"utf-8\") as f:\n",
    "    raw_users = json.load(f)\n",
    "logger.info(f\"Loaded {len(raw_users)} users.\")\n",
    "\n",
    "with open(MAP_FILE, \"r\", encoding=\"utf-8\") as f:\n",
    "    user_map = json.load(f)\n",
    "logger.info(f\"Loaded {len(user_map)} user mappings.\")\n",
    "\n",
    "with open(BIRTH_DATE_FILE, \"r\", encoding=\"utf-8\") as f:\n",
    "    birth_dates = json.load(f)\n",
    "logger.info(f\"Loaded {len(birth_dates)} birth dates.\")\n",
    "\n",
    "with open(RECENT_REVIEWS, \"r\", encoding=\"utf-8\") as f:\n",
    "    recent_reviews = json.load(f)"
   ]
  },
  {
   "cell_type": "code",
   "execution_count": 32,
   "metadata": {},
   "outputs": [
    {
     "name": "stderr",
     "output_type": "stream",
     "text": [
      "100%|██████████| 5000/5000 [00:00<00:00, 19305.51it/s]\n"
     ]
    }
   ],
   "source": [
    "users = []\n",
    "neo4j_users = []\n",
    "\n",
    "i = 0\n",
    "EMAIL_DOMAINS = [\"gmail.com\", \"yahoo.com\", \"hotmail.com\", \"outlook.com\"]\n",
    "for raw_user in tqdm(raw_users):\n",
    "\n",
    "    ########################## MONGO USERS ##############################\n",
    "\n",
    "    user = {\n",
    "        \"id\": str(uuid.uuid4()),\n",
    "\n",
    "        \"username\": raw_user[\"name\"],\n",
    "        \n",
    "        \"firstName\": raw_user[\"firstname\"],\n",
    "        \"lastName\": raw_user[\"lastname\"],\n",
    "        \n",
    "        \"email\": raw_user[\"firstname\"].lower() + \".\" + raw_user[\"lastname\"].lower() + str(i) + \"@\" + random.choice(EMAIL_DOMAINS),\n",
    "        \"password\": hash_password(generate_random_password(12 - 4 + i % 8)),\n",
    "\n",
    "        \"birthDate\": birth_dates[raw_user[\"name\"]],\n",
    "\n",
    "        \"location\": {\n",
    "            \"city\": raw_user[\"city\"] if \"city\" in raw_user else None,\n",
    "            \"stateOrProvince\": raw_user[\"stateorprovince\"] if \"stateorprovince\" in raw_user else None,\n",
    "            \"country\": raw_user[\"country\"] if \"country\" in raw_user else None\n",
    "        },\n",
    "\n",
    "        \"followers\": None,\n",
    "        \"following\": None,\n",
    "        \"tournaments\": {\n",
    "            \"participated\": None,\n",
    "            \"won\": None,\n",
    "            \"created\": None\n",
    "        },\n",
    "        \n",
    "        \"mostRecentReviews\": recent_reviews[raw_user[\"name\"]],\n",
    "\n",
    "        \"role\": \"ROLE_USER\"\n",
    "    }\n",
    "\n",
    "    # Append to user list\n",
    "    users.append(user)\n",
    "\n",
    "    ######################## NEO4J USERS ###########################\n",
    "\n",
    "    neo4j_user = {\n",
    "        \"username\": user[\"username\"],\n",
    "        \"location\": user[\"location\"],\n",
    "    }\n",
    "\n",
    "    # Append to neo4j user list\n",
    "    neo4j_users.append(neo4j_user)\n",
    "\n",
    "    i += 1"
   ]
  },
  {
   "cell_type": "code",
   "execution_count": 33,
   "metadata": {},
   "outputs": [
    {
     "name": "stderr",
     "output_type": "stream",
     "text": [
      "2025-01-20 12:35:36,658 - INFO - Saved 5000 users to ..\\data\\clean\\mongo\\users.json.\n",
      "2025-01-20 12:35:36,779 - INFO - Saved 5000 users to ..\\data\\clean\\neo4j\\users.json.\n"
     ]
    }
   ],
   "source": [
    "# Save users to JSON\n",
    "if users:\n",
    "    save_to_json(users, MONGO_USERS_JSON)\n",
    "logger.info(f\"Saved {len(users)} users to {MONGO_USERS_JSON}.\")\n",
    "users = None\n",
    "\n",
    "# Save neo4j users to JSON\n",
    "if neo4j_users:\n",
    "    save_to_json(neo4j_users, NEO4J_USERS_JSON)\n",
    "logger.info(f\"Saved {len(neo4j_users)} users to {NEO4J_USERS_JSON}.\")\n",
    "neo4j_users = None"
   ]
  }
 ],
 "metadata": {
  "kernelspec": {
   "display_name": ".venv",
   "language": "python",
   "name": "python3"
  },
  "language_info": {
   "codemirror_mode": {
    "name": "ipython",
    "version": 3
   },
   "file_extension": ".py",
   "mimetype": "text/x-python",
   "name": "python",
   "nbconvert_exporter": "python",
   "pygments_lexer": "ipython3",
   "version": "3.12.4"
  }
 },
 "nbformat": 4,
 "nbformat_minor": 2
}
