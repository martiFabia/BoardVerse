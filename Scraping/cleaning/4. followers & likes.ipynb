{
 "cells": [
  {
   "cell_type": "markdown",
   "metadata": {},
   "source": [
    "# 4. Followers and Likes"
   ]
  },
  {
   "cell_type": "markdown",
   "metadata": {},
   "source": [
    "Requirements"
   ]
  },
  {
   "cell_type": "code",
   "execution_count": 1,
   "metadata": {},
   "outputs": [
    {
     "name": "stdout",
     "output_type": "stream",
     "text": [
      "Note: you may need to restart the kernel to use updated packages.\n"
     ]
    }
   ],
   "source": [
    "%pip install -r ../requirements.txt -q"
   ]
  },
  {
   "cell_type": "markdown",
   "metadata": {},
   "source": [
    "Imports"
   ]
  },
  {
   "cell_type": "code",
   "execution_count": 2,
   "metadata": {},
   "outputs": [],
   "source": [
    "import os\n",
    "import time\n",
    "\n",
    "import pandas as pd\n",
    "import numpy as np\n",
    "\n",
    "import json\n",
    "from tqdm import tqdm\n",
    "import logging\n",
    "\n",
    "from bs4 import BeautifulSoup\n",
    "import re\n",
    "\n",
    "import uuid\n",
    "import random\n",
    "from datetime import datetime, timedelta\n",
    "\n",
    "import networkx as nx\n",
    "import matplotlib.pyplot as plt\n",
    "from collections import Counter\n",
    "\n",
    "from joblib import Parallel, delayed"
   ]
  },
  {
   "cell_type": "markdown",
   "metadata": {},
   "source": [
    "Logging configuration"
   ]
  },
  {
   "cell_type": "code",
   "execution_count": 3,
   "metadata": {},
   "outputs": [],
   "source": [
    "logging.basicConfig(level=logging.INFO, format=\"%(asctime)s - %(levelname)s - %(message)s\")\n",
    "logger = logging.getLogger()"
   ]
  },
  {
   "cell_type": "markdown",
   "metadata": {},
   "source": [
    "Constants"
   ]
  },
  {
   "cell_type": "code",
   "execution_count": 4,
   "metadata": {},
   "outputs": [],
   "source": [
    "# Repositories\n",
    "DATA_DIR = os.path.join(\"..\", \"data\")\n",
    "TEMP_DIR = os.path.join(DATA_DIR, \"temp\")\n",
    "RAW_DIR = os.path.join(DATA_DIR, \"raw\")\n",
    "MONGO_DIR = os.path.join(DATA_DIR, \"clean\", \"mongo\")\n",
    "NEO4J_DIR = os.path.join(DATA_DIR, \"clean\", \"neo4j\")"
   ]
  },
  {
   "cell_type": "code",
   "execution_count": 5,
   "metadata": {},
   "outputs": [],
   "source": [
    "# Repos creation\n",
    "os.makedirs(DATA_DIR, exist_ok=True)\n",
    "os.makedirs(TEMP_DIR, exist_ok=True)\n",
    "os.makedirs(RAW_DIR, exist_ok=True)\n",
    "os.makedirs(MONGO_DIR, exist_ok=True)\n",
    "os.makedirs(NEO4J_DIR, exist_ok=True)"
   ]
  },
  {
   "cell_type": "code",
   "execution_count": 14,
   "metadata": {},
   "outputs": [],
   "source": [
    "# Files\n",
    "MAP_FILE = os.path.join(TEMP_DIR, \"user_map.json\")\n",
    "RECENT_REVIEWS = os.path.join(TEMP_DIR, \"recent_reviews.json\")\n",
    "\n",
    "BOARD_GAMES_FILE = os.path.join(RAW_DIR, \"boardgames&reviews.json\")\n",
    "RAW_USERS_FILE = os.path.join(RAW_DIR, \"users.json\")\n",
    "\n",
    "GAMES_JSON = os.path.join(MONGO_DIR, \"games.json\")\n",
    "THREADS_JSON = os.path.join(MONGO_DIR, \"threads.json\")\n",
    "REVIEWS_JSON = os.path.join(MONGO_DIR, \"reviews.json\")\n",
    "USERS_JSON = os.path.join(MONGO_DIR, \"users.json\")\n",
    "\n",
    "NEO4J_USERS = os.path.join(NEO4J_DIR, \"users.json\")\n",
    "NEO4J_LIKES = os.path.join(NEO4J_DIR, \"likes.json\")\n",
    "NEO4J_FOLLOWERS = os.path.join(NEO4J_DIR, \"followers.json\")"
   ]
  },
  {
   "cell_type": "markdown",
   "metadata": {},
   "source": [
    "Utility functions"
   ]
  },
  {
   "cell_type": "code",
   "execution_count": 7,
   "metadata": {},
   "outputs": [],
   "source": [
    "def save_to_json(data, filename):\n",
    "    \"\"\"\n",
    "    Save data to a JSON file.\n",
    "\n",
    "    Parameters:\n",
    "    data (any): The data to be saved to the JSON file. This can be any data type that is serializable to JSON.\n",
    "    filename (str): The name of the file where the data will be saved.\n",
    "\n",
    "    Returns:\n",
    "    None\n",
    "    \"\"\"\n",
    "    with open(filename, \"w\", encoding=\"utf-8\") as f:\n",
    "        json.dump(data, f, ensure_ascii=False, indent=4)"
   ]
  },
  {
   "cell_type": "code",
   "execution_count": 8,
   "metadata": {},
   "outputs": [],
   "source": [
    "def append_to_json(new_data, filename):\n",
    "    \"\"\"\n",
    "    Adds new data to an existing JSON file without duplicates.\n",
    "\n",
    "        new_data (list): The new data to add.\n",
    "        filename (str): The name of the JSON file.\n",
    "    \"\"\"\n",
    "    # Read existing data from the file.\n",
    "    try:\n",
    "        with open(filename, \"r\", encoding=\"utf-8\") as f:\n",
    "            existing_data = json.load(f)\n",
    "    except FileNotFoundError:\n",
    "        existing_data = []\n",
    "\n",
    "    # Combine the existing data with the new data and remove duplicates.\n",
    "    combined_data = {json.dumps(item, sort_keys=True): item for item in existing_data + new_data}.values()\n",
    "\n",
    "    # Save the combined data back to the file.\n",
    "    with open(filename, \"w\", encoding=\"utf-8\") as f:\n",
    "        json.dump(list(combined_data), f, ensure_ascii=False, indent=4)"
   ]
  },
  {
   "cell_type": "markdown",
   "metadata": {},
   "source": [
    "## Functions"
   ]
  },
  {
   "cell_type": "code",
   "execution_count": 9,
   "metadata": {},
   "outputs": [],
   "source": [
    "def game_similarity(user1, user2, users):\n",
    "    likes1 = set(users[user1][\"likes\"])\n",
    "    likes2 = set(users[user2][\"likes\"])\n",
    "    if not likes1 or not likes2:\n",
    "        return 0\n",
    "    return len(likes1 & likes2) / len(likes1 | likes2)"
   ]
  },
  {
   "cell_type": "code",
   "execution_count": 10,
   "metadata": {},
   "outputs": [],
   "source": [
    "def review_similarity(user1, user2, users):\n",
    "    reviews1 = set(users[user1][\"reviews\"])\n",
    "    reviews2 = set(users[user2][\"reviews\"])\n",
    "    if not reviews1 and not reviews2:\n",
    "        return 0\n",
    "    return len(reviews1 & reviews2) / len(reviews1 | reviews2)"
   ]
  },
  {
   "cell_type": "code",
   "execution_count": 11,
   "metadata": {},
   "outputs": [],
   "source": [
    "def thread_similarity(user1, user2, users):\n",
    "    threads1 = set(users[user1][\"threads\"])\n",
    "    threads2 = set(users[user2][\"threads\"])\n",
    "    if not threads1 and not threads2:\n",
    "        return 0\n",
    "    return len(threads1 & threads2) / len(threads1 | threads2)"
   ]
  },
  {
   "cell_type": "code",
   "execution_count": 12,
   "metadata": {},
   "outputs": [],
   "source": [
    "def game_thread_similarity(user1, user2, users):\n",
    "    game_threads1 = set(users[user1][\"game_threads\"])\n",
    "    game_threads2 = set(users[user2][\"game_threads\"])\n",
    "    if not game_threads1 and not game_threads2:\n",
    "        return 0\n",
    "    return len(game_threads1 & game_threads2) / len(game_threads1 | game_threads2)"
   ]
  },
  {
   "cell_type": "code",
   "execution_count": 13,
   "metadata": {},
   "outputs": [],
   "source": [
    "def combined_similarity(user1, user2, users, weights=(0.4, 0.3, 0.2, 0.1)):\n",
    "    w_games, w_reviews, w_threads, w_game_threads = weights\n",
    "    return (\n",
    "        w_games * game_similarity(user1, user2, users) +\n",
    "        w_reviews * review_similarity(user1, user2, users) +\n",
    "        w_threads * thread_similarity(user1, user2, users) +\n",
    "        w_game_threads * game_thread_similarity(user1, user2, users)\n",
    "    )"
   ]
  },
  {
   "cell_type": "code",
   "execution_count": 14,
   "metadata": {},
   "outputs": [],
   "source": [
    "def calculate_edges(user1, users, threshold=0.5):\n",
    "    local_edges = []\n",
    "    for user2 in users.keys():\n",
    "        if user1 != user2:\n",
    "            prob = combined_similarity(user1, user2, users)\n",
    "            if prob > threshold and random.random() < prob:\n",
    "                local_edges.append((user1, user2))\n",
    "    return local_edges"
   ]
  },
  {
   "cell_type": "markdown",
   "metadata": {},
   "source": [
    "## Execution"
   ]
  },
  {
   "cell_type": "code",
   "execution_count": 29,
   "metadata": {},
   "outputs": [
    {
     "name": "stderr",
     "output_type": "stream",
     "text": [
      "2025-01-21 02:15:50,377 - INFO - Loaded 2000 games.\n"
     ]
    }
   ],
   "source": [
    "with open(BOARD_GAMES_FILE, \"r\", encoding=\"utf-8\") as f:\n",
    "    raw_games = [ \n",
    "        {\n",
    "            \"id\": int(raw_game[\"id\"]), \n",
    "            \"name\": raw_game[\"name\"],\n",
    "            \"yearReleased\": raw_game[\"yearReleased\"] if raw_game[\"yearReleased\"] >= 0 else 0\n",
    "        } \n",
    "        for raw_game in json.load(f)\n",
    "    ]\n",
    "with open(GAMES_JSON, \"r\", encoding=\"utf-8\") as f:\n",
    "    clean_games = [ \n",
    "        {\n",
    "            \"id\": game[\"id\"], \n",
    "            \"name\": game[\"name\"],\n",
    "            \"yearReleased\": game[\"yearReleased\"]\n",
    "        } \n",
    "        for game in json.load(f)\n",
    "    ]\n",
    "game_dict = {}\n",
    "for raw_game in raw_games:\n",
    "    for clean_game in clean_games:\n",
    "        if raw_game[\"name\"] == clean_game[\"name\"] and raw_game[\"yearReleased\"] == clean_game[\"yearReleased\"]:\n",
    "            game_dict[raw_game[\"id\"]] = clean_game\n",
    "            break\n",
    "logger.info(f\"Loaded {len(game_dict)} games.\")"
   ]
  },
  {
   "cell_type": "code",
   "execution_count": 36,
   "metadata": {},
   "outputs": [
    {
     "name": "stderr",
     "output_type": "stream",
     "text": [
      "2025-01-21 02:29:44,606 - INFO - Loaded 5000 users from ..\\data\\clean\\neo4j\\users.json\n",
      "2025-01-21 02:29:44,607 - INFO - Loading user data...\n",
      "2025-01-21 02:30:12,751 - INFO - Loaded reviews.\n",
      "2025-01-21 02:30:19,376 - INFO - Loaded threads.\n",
      "2025-01-21 02:30:26,075 - INFO - Loaded likes.\n"
     ]
    }
   ],
   "source": [
    "with open(NEO4J_USERS, \"r\", encoding=\"utf-8\") as f:\n",
    "    users = [user[\"username\"] for user in json.load(f)]\n",
    "    user_objects = {user: {\"reviews\": [], \"likes\": [], \"threads\": [], \"game_threads\": []} for user in users}\n",
    "logger.info(f\"Loaded {len(users)} users from {NEO4J_USERS}\")\n",
    "users = None\n",
    "logger.info(f\"Loading user data...\")\n",
    "\n",
    "with open(REVIEWS_JSON, \"r\", encoding=\"utf-8\") as f:\n",
    "    reviews = json.load(f)\n",
    "for review in reviews:\n",
    "    user_objects[review[\"author\"][\"username\"]][\"reviews\"].append(review[\"game\"][\"id\"])\n",
    "reviews = None\n",
    "logger.info(f\"Loaded reviews.\")\n",
    "\n",
    "with open(THREADS_JSON, \"r\", encoding=\"utf-8\") as f:\n",
    "    threads = json.load(f)\n",
    "for thread in threads:\n",
    "    for message in thread[\"messages\"]:\n",
    "        user_objects[message[\"author\"]][\"threads\"].append(thread[\"id\"])\n",
    "        user_objects[message[\"author\"]][\"game_threads\"].append(thread[\"game\"][\"id\"])\n",
    "threads = None\n",
    "logger.info(f\"Loaded threads.\")\n",
    "\n",
    "with open(MAP_FILE, \"r\", encoding=\"utf-8\") as f:\n",
    "    user_map = json.load(f)\n",
    "with open(RAW_USERS_FILE, \"r\", encoding=\"utf-8\") as f:\n",
    "    raw_users = json.load(f)\n",
    "for raw_user in raw_users:\n",
    "    for like in raw_user[\"collection\"]:\n",
    "        if int(like[\"id\"]) in game_dict:\n",
    "            user_objects[user_map[raw_user[\"name\"]]][\"likes\"].append(game_dict[int(like[\"id\"])][\"id\"])\n",
    "raw_users = None\n",
    "logger.info(f\"Loaded likes.\")"
   ]
  },
  {
   "cell_type": "code",
   "execution_count": 37,
   "metadata": {},
   "outputs": [
    {
     "name": "stdout",
     "output_type": "stream",
     "text": [
      "['bd4e151b-fc86-4df9-8ff8-6d7bc71aa694', '037713e2-2488-4e92-827c-0c335610f899', '6db29df3-b110-4e56-9a0d-f8b3b0a4153d', 'c79e2dcd-d599-4fb5-a4af-40abffa3ee5e', 'c1db8d08-8689-44ee-8ba1-b0b2cb9d969f', '1409b765-e3d2-4e94-b818-1e4cd7e8d69e', '1c7abe5b-5cd8-44a7-852c-d681c4289bc3', 'fe1849b5-573c-4c03-8268-f8592a77bdae', '552dbc0b-85a5-4f8f-8c28-85b59c574a67', '2fdd8d09-f43b-471c-81b8-e2876bfe78f6', 'f72739c7-6127-4e2c-ab31-ea94c830bc3f', '1f76d06d-e494-41a3-8cc3-12a68704e6be', '59ac80d2-2038-43a7-8a8a-31b39d4de38b', '3c432fe4-895f-4d04-b7e2-a54c5be6ced0', '57569489-dacd-4696-9866-c789ec542935', '9dec7c90-4671-44b2-935e-2971661da450', 'cfb1602c-f72b-4f12-b3c8-fcafa163d381', '0a94bf5e-56b4-46fa-aead-3607e691fe77', 'c0978497-ede6-493d-a9e0-1219654c6ca2', 'fc65d705-fac2-4285-a366-21005ed1e304', '77b4c92c-efbc-4832-90e4-425bd47eabd0', '985444d7-b88e-4915-ae90-be4404f0878b', '9a81f536-9ca6-4425-8ff1-1ce6eeede89e', '6b5ec8b2-aac7-45b2-84f1-2d3de1b62497', 'e15eca6a-9301-4057-b2e6-8ce9d2f94d0e', 'e07174ac-9c81-47ac-868a-3aaf4fb7e7bd', '2c8fdb31-84f3-4660-9190-de2cc71c8008', '6862d52f-4233-42a7-81b8-a7160ee76bb9', '9563613e-34c1-43a2-999e-9049a215d0fb', '9563613e-34c1-43a2-999e-9049a215d0fb', 'e7258d58-bc04-43f4-b059-1eeb66dd27af', 'e58a5169-08b9-4ac0-befe-ada28c866736', 'da921753-e01b-4a5a-8ee1-3c3d4c735b47', 'd30b5c45-87a7-4920-bcb2-8b8824195963', '2704d984-1ee4-4113-aea5-98f0841c1b17', 'fa03c2b9-5630-4f7f-90d9-56e5a8e8f8f1', '48813a66-8025-489c-a621-a1340995558b', 'eece017f-ac0f-4538-9c19-c4486c566eed', '14478c60-cf40-4541-bc6b-3c1accd8185e', '914c3685-5221-4967-8a8f-dd026c1c099d', '59520738-145e-418a-83c4-83d478cdba86', '5dabc9d3-1f3a-4da4-a4a1-8b45026b496f', '7b1caa9c-0475-488d-8f42-d1b318615043', 'e1fc1257-658f-41e2-8b32-9e743b7b3622', 'e1fc1257-658f-41e2-8b32-9e743b7b3622', 'd9f451f1-e0c9-45e2-97a0-dd6b3b9071b7', '3d9b1c10-03e2-4f82-9a86-26e353a8f2cb', '3d9b1c10-03e2-4f82-9a86-26e353a8f2cb', '1ee7cd16-4205-490c-9e2b-cf2eae92c787', '1ee7cd16-4205-490c-9e2b-cf2eae92c787', '8d1f2590-210e-44e9-bd13-9464264c6ce8', '72959df2-e5b5-426f-a5df-170cf72017a5', '16d11bf3-6c15-4f14-8611-8d66d8060a5f', '17b03999-f34d-4eb4-b106-508a7bde67e3', '215010c0-6d0c-409b-ab57-368b6f737351', 'ace09bb9-9caf-4c18-83aa-347185602567', 'abd43ad5-21f8-48e0-a2db-c0689088f6db', 'bfddbb69-67d5-4849-96ba-65327aa3b9fb', '4695034b-6dc2-460d-ba7f-06dd61c537fb', '4bab3f5a-8f49-484d-84f6-2dd8d2e0f1e3', 'bf3016d3-dc0c-42a1-bf92-e54ae706d4f4', '15f437ba-f065-40ee-bc65-356d5fc50fb3', '7ca41bd4-0da1-4fe1-945a-4f3c8f3e6bd8', '9a59faa5-73db-4649-bc2e-b65e7bfc1478', '22b413da-ee88-4d95-9b28-1b06c2995126', '125161e6-5a0a-4c0a-aff5-59daa386dc19', '125161e6-5a0a-4c0a-aff5-59daa386dc19', '125161e6-5a0a-4c0a-aff5-59daa386dc19', '278f8b47-f280-4a06-b6c0-235181355db3', '278f8b47-f280-4a06-b6c0-235181355db3', 'df6d4fa6-b16f-4c0d-bb1e-34ae4422d257', '59ecc6cf-4d70-43a9-bfa5-17293d938804', '0a7b3d00-6346-4e6a-bcfe-c6385e413fd6', '0a7b3d00-6346-4e6a-bcfe-c6385e413fd6', '481a5cbd-df4c-4e42-82fe-c43a3415bfd7', '03abafe7-eec2-47c4-a7dd-417628f99268', 'c8bb1f61-259c-4e4a-a8a1-aff64ab0b24b', '6569dddb-6e02-49b3-bf76-d8a0b7f0dfb4', '7fbdcd09-5f07-4f75-a9cb-fd3f0abd3a46', 'ab6d8ee5-a4c0-4687-939a-17d94550a2ab', '99f59029-a518-432b-9f3e-e0b15fbd1870', '8722da06-2341-4011-aa5b-7e958a628754', '0ff3ca25-c7b9-4e53-8771-f5056262cb33', 'e0c2ed97-9ce8-46e2-93ad-b8c2cbbe3de4', 'e1247dba-7232-4295-94a4-76bc498e8de8', 'db618bd6-4d21-490c-8ee0-256db5fdcb92', 'db618bd6-4d21-490c-8ee0-256db5fdcb92', '27745915-e285-4611-8792-62df63a712a7', '29380b8b-4e4b-42b7-8a04-6069cb15ddda', '4eaf707b-e6cc-483e-8d84-87377b3156d1', '2a924083-d19b-4337-82ca-699033eea141', '2a924083-d19b-4337-82ca-699033eea141', '140b5e44-aa88-4a1e-b18a-e4154f115285', '140b5e44-aa88-4a1e-b18a-e4154f115285', 'c6f71f29-79d7-4bdb-9e7b-ff0091e8530a', 'c6f71f29-79d7-4bdb-9e7b-ff0091e8530a', '279e148e-b073-4957-949b-76c466ab2135', 'f5cd5e4c-6735-41e1-a8c9-514cf4a3b898', '701c7307-dd68-4a9f-8e21-87fffca40404', '701c7307-dd68-4a9f-8e21-87fffca40404', '80e23bb7-1f37-415a-9b28-edc0cb913dbe', '2c17f7c3-c72a-4151-ae1e-b412f55c049f', '2c17f7c3-c72a-4151-ae1e-b412f55c049f', '32172a77-95b5-4309-b052-c1cbd175920f', '3e198736-e27b-4151-b4ef-64c44683cae3', 'edd2b370-d798-48cd-af80-e65a5610bfcb', '2ae7e44f-ae3b-44b7-b1c7-dd07eaece77d', 'da872408-d8ac-492b-81eb-1206941bd566', 'aef1d445-2b78-4636-85bd-ecac74e29f1c', '2f3d4194-e0b3-4aed-a773-7fb5ae2bed26', 'df5d97cf-bd84-44f9-a558-21656740ec47', '7fc1c191-5df8-4314-9810-faed5ec26559', '5eaa7717-d9c9-48a3-bc76-aa7371100665', 'a378237b-6569-49b3-a3c6-dda32d615070', '936520bb-9d63-4716-a90b-e9eae63bf2b5', '49948c69-fbd4-4447-92ca-cdfca97f9b02', '535df000-b3ff-4393-80c8-2b3d9abce5c3', 'e350d3c3-2e90-44fb-8b69-d2f1d67dda60', '36d3af21-45bf-49e1-8781-7c0936bf0311', '746e2f9f-802c-46bc-9a0f-b11992970817', '4b530b93-9ac4-4675-ac59-3f20c0a6f0c2', 'c5dece69-fa1b-4aa1-9f7a-877a6a2dee55', 'a42f390a-5a2e-4996-b9a9-9f7048ac238d', '4cba068b-198b-4d4b-ac0f-3f97c49cbeb3', '97742a7a-82a1-4dac-8bbc-4b62d65828f8', '20ac6a77-e7c0-4c39-a9a3-2970c55dcc5a', 'a2763c21-c87e-4553-8350-15fe1e6236df', '557d7d19-b464-48f0-b162-6b70edf3eb63', 'b7c0b4e2-8333-468f-a55c-6c0df17ad149', '691a446d-e927-4e2f-af3b-3ede71b9761b', '5ebfb795-f379-4b8f-a2c0-5b832abf0658', '0cee92af-e47d-4337-b605-e1d3d1213e29', 'c5fd017a-f131-4cf5-bf1a-dc676e7834eb', '07f63c63-9698-4207-97e2-4eac942a77f1', '776e0a7d-f890-47e7-b7b7-a5f57dce80c3', '91deb898-1871-4a7b-8b02-5cab1d973885', 'bfedbea8-6ab9-44a3-bf0b-9d2dd643a1d8', '3bb45c46-72f3-4c95-8eac-aa93d4cd6a0e', '0abb5e02-07dc-436e-9f27-979b12b020ba', 'bc399910-fd4b-4107-993b-3965d5f74b5f', '87adc97f-4414-479d-862b-61479ab7f008', 'd1047aeb-6781-4812-861a-df4c19520cad', '24268a41-b660-41b1-b6d6-a00550e1ed85', '524b03f0-4610-4767-84f1-eeaa77913af5', '280d3809-554a-4165-8731-c3e50ad4db7f', '03fc3364-e9ca-4719-935b-aa1ab1e8246d', '03fc3364-e9ca-4719-935b-aa1ab1e8246d', '03fc3364-e9ca-4719-935b-aa1ab1e8246d', 'c2a0422d-23d7-4567-aeb3-a1a0e8b65631', '0ede9715-13be-44c9-aade-e91459e9e6a1', '7df5907d-33a3-4ac0-ba1e-6c6eecf9b7a5', 'cc59f8de-bfac-40b0-a17a-a22cd6c5c3be', '60a00ab4-42a9-440d-bd05-10ec26ac19f1', 'ae1a22b8-19cf-4dca-8704-a4463144f38d', 'cc3c05a3-9b33-47ae-af7e-437eac36974a', '9e04ca11-9257-4e2d-a46d-4c5acbc26190', '965917ba-aff8-4bd6-9a50-6bda7f055057', 'ff8bd9fe-1abf-4c2c-9171-aec1ba249a30', '3a27fa76-82b5-4816-bc35-280f48715c18', '874eb0bb-5ed8-41e9-9f71-2edb72614fc8', 'd5b08a05-1cd2-4b26-a04e-1ea588ae4842', 'ba1a2ab8-b393-40b3-8a1a-3fda3702e077', '5edcea50-2bde-46f2-9527-2f933d5127f6', '5edcea50-2bde-46f2-9527-2f933d5127f6', '2ff6df77-ce47-4b47-bd40-86b114e539c1', 'db6a7163-822b-429f-920c-82183033c164', '0a139465-0c09-4361-b581-9544587c7273', 'b611b4ef-5175-437f-a5e4-ff48b94b0b4f', '10de5ee4-24a7-41d2-8b83-59663aa11f78', '81086ea6-ecf6-4e1c-b844-25c5e96b0908', '874d2aaf-a8c0-4b10-9509-518588db56c0', '95d2f6f2-1b2b-44a9-9ea4-20286695561f', '12027668-77fa-430a-9aa6-e082885da3c4', '0d9064b4-e4bb-4b6e-b153-f110e3fe7dd1', '339988f8-0b73-47ac-9ac4-59cd40c70202', '5e504ec3-3fd5-4171-88b8-a2403c33f6fb', '5535ff81-882b-4e55-b5c8-45f5c9613c4e', '4e584503-a9b4-4906-94f7-edc0997e35cd', 'f50b6ad5-b2cb-4949-b7b6-52d917081539', '55111261-de19-416d-a98d-5bc603d50f68', '51c41864-8f9d-4290-811e-a2e7f4274b90', '034c610d-3799-4cdf-8d3a-b6ff8de86ba9', '3fc85235-7b38-49d7-8602-d65cb80c3c72', 'dc84b099-aeee-4dd5-ada9-b3f49c7b8907', '481a231e-eab6-48b5-9da2-a97ce3603b14', 'f2b3ec0c-c420-4d7a-845f-b4863102c5ed', '8411e8b5-c7c1-45eb-99fe-2ee51e205a55', '87667afb-0082-40be-8c3a-da0daf1dc2d3', '0b879ad7-bd5b-4dab-bc00-98e1d66bacea', '8e370408-7eb1-43c0-8240-501e158b39d2', '270df388-c33c-43d1-9b41-03760c5fd3c0', '5d399c69-d3d6-43d8-9de8-a897e6d41cec', '2befe76b-c48a-4a68-acee-a2c2ebe5cde1', '9de4bc92-dd7f-4f10-bcd8-ccad55d1ed09', 'a5963e20-2f98-4d9b-a15b-afa0911a6829', '24ec48d3-5543-4609-8a69-5bb204575acb', '83f181b8-1831-4d20-bc9f-a54773f59098', 'c92b980f-da04-49ec-b34a-55548ef61829', 'fcaf0186-f40d-41e0-b99b-23dfbd8482cb', '0bd40184-fa08-4ee2-bb05-82a5897a9796', '7f457d86-c51a-4587-aea5-15819c3cbd9e', '912ac31a-fc12-4088-96c3-662209dde0cc', '7c0ea59d-19e7-45bd-8a2e-1a8201c16706', '622610b5-ddce-4b1a-83e9-ff44714556b8', 'a936c95a-cf87-4da4-99ca-1ff2d5ce7f27', 'a936c95a-cf87-4da4-99ca-1ff2d5ce7f27', '004e8671-6664-4155-8935-fcd5e57e8fc2', '12b6dd70-5a75-44a1-b77d-e07ea96435e2', 'ad4e561c-6c9f-4f80-bfa9-8e59ba63886e', 'a35d74e9-1a26-4ad8-8b9c-a69acd1d8802', '73f66e45-7a2a-4c2b-b9fe-6241a855c248', '57644464-997c-4550-913a-14cb5ffdcf16', '57644464-997c-4550-913a-14cb5ffdcf16', 'dfc4d54c-1eda-4ad4-8bf3-8208cc4f2387', 'dfc4d54c-1eda-4ad4-8bf3-8208cc4f2387', '5ee23040-5309-4cb3-a006-48c200e7eeff', '1e894642-debf-4942-9dd5-685403e22282', '66ab2886-2fe9-4b9e-bf1b-1e1a81c6732f', 'e21a482c-d453-4003-aa5f-33ef621060d9', 'a9e2ddc9-7fb6-4c9f-8c09-5ffee468399c', 'c95e2a31-e703-4891-9f47-d0e1dcc769d9', 'f5a1b44f-f493-4331-9bd7-e406ea7c3fb2', '05f55b50-38eb-449d-b281-190413b26397', '547b0cd3-090b-40d3-9371-9fda5278771a', 'a9f46fc2-ed82-485f-9b56-b316eb897d4e', '5a2105f7-9e48-4348-9966-0c2b2e4bb33a', 'f7c3ebf4-6bf5-41b0-9583-bb433055f81e', '64051d72-6a28-488a-a132-0e2e5df38b07', '26820827-b6a0-4dcd-b3ce-01935c9238bc', '9c37fe29-c856-4e76-bf28-4f0374ebf35e', '665c85c9-9046-4fe2-842f-52ada7831c0d', '665c85c9-9046-4fe2-842f-52ada7831c0d', '562b2188-215c-47eb-8022-035c24ca8293', '1a19529f-ffbd-4df1-9e48-d4fc9dc25922', '1de1215e-4a9b-405c-8ed8-86f4aa14ba11', '45131b16-07c1-4ad9-ae0a-3fbfeb52353d', '3517494e-fc36-4f06-a81a-1da2b396f4e3', 'ae6626af-ea44-48a5-9b4d-ca866a7268bb']\n"
     ]
    }
   ],
   "source": [
    "print(user_objects[\"ska_dad\"][\"likes\"])\n",
    "users = user_objects"
   ]
  },
  {
   "cell_type": "code",
   "execution_count": 18,
   "metadata": {},
   "outputs": [
    {
     "name": "stderr",
     "output_type": "stream",
     "text": [
      "Finding edges:   0%|          | 0/5000 [00:00<?, ?it/s]"
     ]
    },
    {
     "name": "stderr",
     "output_type": "stream",
     "text": [
      "Finding edges: 100%|██████████| 5000/5000 [51:37<00:00,  1.61it/s]  \n"
     ]
    }
   ],
   "source": [
    "# Similarity threshold\n",
    "threshold = 0.5\n",
    "edges = []\n",
    "\n",
    "for user1 in tqdm(users.keys(), desc=\"Finding edges\"):\n",
    "    for user2 in users.keys():\n",
    "        if user1 != user2:\n",
    "            prob = combined_similarity(user1, user2, users)\n",
    "            if prob > threshold and random.random() < prob:\n",
    "                edges.append((user1, user2))  # user1 segue user2"
   ]
  },
  {
   "cell_type": "code",
   "execution_count": 19,
   "metadata": {},
   "outputs": [],
   "source": [
    "influencers = sorted(users.keys(), key=lambda u: (\n",
    "    len(users[u][\"reviews\"]) + len(users[u][\"threads\"])\n",
    "), reverse=True)[:50]  # Top 50 influencer\n",
    "\n",
    "# Aggiungi più follower per gli influencer\n",
    "for influencer in influencers:\n",
    "    for user in users.keys():\n",
    "        if user != influencer and random.random() < 0.8:\n",
    "            edges.append((user, influencer))"
   ]
  },
  {
   "cell_type": "code",
   "execution_count": 20,
   "metadata": {},
   "outputs": [],
   "source": [
    "reciprocal_probability = 0.3\n",
    "\n",
    "for edge in edges.copy():\n",
    "    if random.random() < reciprocal_probability:\n",
    "        edges.append((edge[1], edge[0]))  # Relazione inversa"
   ]
  },
  {
   "cell_type": "code",
   "execution_count": 21,
   "metadata": {},
   "outputs": [
    {
     "name": "stdout",
     "output_type": "stream",
     "text": [
      "Nodes: 5000\n",
      "Edges: 259674\n"
     ]
    }
   ],
   "source": [
    "print(\"Nodes:\", len(users))\n",
    "print(\"Edges:\", len(edges))"
   ]
  },
  {
   "cell_type": "code",
   "execution_count": 22,
   "metadata": {},
   "outputs": [
    {
     "name": "stdout",
     "output_type": "stream",
     "text": [
      "Follower distribution: [('Base the Bass', 4074), ('dasfungames', 4068), ('RGG_Ken', 4066), ('Elio19', 4052), ('garbagerunner', 4047), ('Pembrose', 4041), ('bnordeng', 4039), ('Stephilmike', 4039), ('gmbalbee', 4036), ('DrSly', 4035)]\n",
      "Following distribution: [('Stephilmike', 1328), ('RGG_Ken', 1322), ('joespleen', 1281), ('JFAudy', 1277), ('Hellman1001', 1274), ('JJazz', 1273), ('MisuVir', 1272), ('curtc', 1267), ('garbagerunner', 1266), ('hollowdeathcult', 1265)]\n"
     ]
    }
   ],
   "source": [
    "in_degrees = Counter(edge[1] for edge in edges)\n",
    "out_degrees = Counter(edge[0] for edge in edges)\n",
    "\n",
    "print(\"Follower distribution:\", in_degrees.most_common(10))\n",
    "print(\"Following distribution:\", out_degrees.most_common(10))"
   ]
  },
  {
   "cell_type": "code",
   "execution_count": 31,
   "metadata": {},
   "outputs": [],
   "source": [
    "with open(USERS_JSON, \"r\", encoding=\"latin-1\") as f:\n",
    "    birth_dates = json.load(f)\n",
    "birth_dates = {birth[\"username\"]: (datetime.strptime(birth[\"birthDate\"], \"%Y-%m-%d\") + timedelta(days=18*365)).isoformat() for birth in birth_dates}"
   ]
  },
  {
   "cell_type": "code",
   "execution_count": 33,
   "metadata": {},
   "outputs": [
    {
     "name": "stderr",
     "output_type": "stream",
     "text": [
      "2025-01-21 02:19:49,123 - INFO - Saved 259674 edges to ..\\data\\clean\\neo4j\\followers.json\n"
     ]
    }
   ],
   "source": [
    "if edges:\n",
    "    with open(NEO4J_FOLLOWERS, \"w\") as f:\n",
    "        json.dump([\n",
    "            {\n",
    "                \"follower\": edge[0], \n",
    "                \"followed\": edge[1],\n",
    "                \"since\": random.choice(pd.date_range(\n",
    "                    min(birth_dates[edge[0]], birth_dates[edge[1]]),\n",
    "                    max(birth_dates[edge[0]], birth_dates[edge[1]]))).isoformat(),\n",
    "            } \n",
    "            for edge in edges], \n",
    "            f, ensure_ascii=False, indent=4)\n",
    "logger.info(f\"Saved {len(edges)} edges to {NEO4J_FOLLOWERS}\")"
   ]
  },
  {
   "cell_type": "code",
   "execution_count": 42,
   "metadata": {},
   "outputs": [
    {
     "name": "stderr",
     "output_type": "stream",
     "text": [
      "2025-01-21 02:41:34,490 - INFO - Saved 814939 likes to ..\\data\\clean\\neo4j\\likes.json\n"
     ]
    }
   ],
   "source": [
    "likes = []\n",
    "release_dict = {game_info[\"id\"]: game_info[\"yearReleased\"] for game_id, game_info in game_dict.items()}\n",
    "for user in users.keys():\n",
    "    for like in users[user][\"likes\"]:\n",
    "        likes.append(\n",
    "            {\n",
    "                \"user\": user, \n",
    "                \"game\": like,\n",
    "                \"timestamp\": random.choice(pd.date_range(\n",
    "                    release_dict[like], \n",
    "                    datetime.now())).isoformat()\n",
    "            }\n",
    "        )\n",
    "if likes:\n",
    "    with open(NEO4J_LIKES, \"w\") as f:\n",
    "        json.dump(likes, f, ensure_ascii=False, indent=4)\n",
    "logger.info(f\"Saved {len(likes)} likes to {NEO4J_LIKES}\")"
   ]
  }
 ],
 "metadata": {
  "kernelspec": {
   "display_name": ".venv",
   "language": "python",
   "name": "python3"
  },
  "language_info": {
   "codemirror_mode": {
    "name": "ipython",
    "version": 3
   },
   "file_extension": ".py",
   "mimetype": "text/x-python",
   "name": "python",
   "nbconvert_exporter": "python",
   "pygments_lexer": "ipython3",
   "version": "3.12.4"
  }
 },
 "nbformat": 4,
 "nbformat_minor": 2
}
